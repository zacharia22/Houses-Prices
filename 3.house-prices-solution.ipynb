{
 "cells": [
  {
   "cell_type": "code",
   "execution_count": 1,
   "metadata": {},
   "outputs": [],
   "source": [
    "import pandas as pd\n",
    "import numpy as np\n",
    "from sklearn.pipeline import Pipeline\n",
    "from sklearn.preprocessing import StandardScaler, PolynomialFeatures\n",
    "from sklearn.metrics import mean_absolute_error as MAE\n",
    "from sklearn.metrics import mean_squared_error as MSE\n",
    "from sklearn.linear_model import LinearRegression, Ridge\n",
    "from sklearn.feature_selection import SelectKBest, f_regression\n",
    "from sklearn.model_selection import train_test_split\n",
    "import matplotlib.pyplot as plt\n",
    "%matplotlib inline"
   ]
  },
  {
   "cell_type": "code",
   "execution_count": 2,
   "metadata": {},
   "outputs": [
    {
     "name": "stdout",
     "output_type": "stream",
     "text": [
      "train :  (1799, 313)\n",
      "test :  (486, 313)\n",
      "unseen :  (500, 313)\n"
     ]
    }
   ],
   "source": [
    "## We download the data\n",
    "#######################\n",
    "\n",
    "df_train = pd.read_csv('house-prices_preprocess_train.csv')\n",
    "df_test = pd.read_csv('house-prices_preprocess_test.csv')\n",
    "df_unseen = pd.read_csv('house-prices_preprocess_unseen.csv')\n",
    "\n",
    "print('train : ',df_train.shape)\n",
    "print('test : ',df_test.shape)\n",
    "print('unseen : ',df_unseen.shape)"
   ]
  },
  {
   "cell_type": "code",
   "execution_count": 3,
   "metadata": {},
   "outputs": [],
   "source": [
    "## Save the target train/test\n",
    "y_train = df_train['SalePrice'].values\n",
    "y_test = df_test['SalePrice'].values\n",
    "\n",
    "## Drop the target in the DataFrame\n",
    "df_train = df_train.drop('SalePrice',axis=1)\n",
    "df_test = df_test.drop('SalePrice',axis=1)\n",
    "df_unseen = df_unseen.drop('SalePrice',axis=1)"
   ]
  },
  {
   "cell_type": "markdown",
   "metadata": {},
   "source": [
    "## The Class Model"
   ]
  },
  {
   "cell_type": "markdown",
   "metadata": {},
   "source": [
    "### Select features for different models\n",
    "\n",
    "We create a Select function using SelectKBest from sklearn. I found this idea on the 'questions/answers' part of the Project webpage."
   ]
  },
  {
   "cell_type": "code",
   "execution_count": 4,
   "metadata": {},
   "outputs": [],
   "source": [
    "## Order the columns with SelectKBest\n",
    "#####################################\n",
    "\n",
    "## Put the data in the correct form\n",
    "X_train = df_train.values  \n",
    "    \n",
    "# Create the selecter object\n",
    "skb = SelectKBest(f_regression, k='all')\n",
    "    \n",
    "# Fit the selecter to your data\n",
    "X_new = skb.fit_transform(X_train,y_train)\n",
    "    \n",
    "# Order the columns with respect to the p-values\n",
    "ordered_cols_pvalues = np.argsort(skb.pvalues_)\n",
    "\n",
    "## The function that reduce the DataFrame\n",
    "def Select_Features(df,k):\n",
    "    \n",
    "    ## Better to work on a copy\n",
    "    df = df.copy() \n",
    "    ## Order the columns of df\n",
    "    cols = df.columns[ordered_cols_pvalues[:k]]\n",
    "    \n",
    "    return df[cols]"
   ]
  },
  {
   "cell_type": "markdown",
   "metadata": {},
   "source": [
    "### Polynomial transformation and get split X/y variables\n",
    "\n",
    "We choose the continuous and ordinal columns as variables to which we want to add polynomial features. In order to avoid colinearity problem, we avoid variables containing too many zeros and not enough values."
   ]
  },
  {
   "cell_type": "code",
   "execution_count": 5,
   "metadata": {},
   "outputs": [
    {
     "data": {
      "text/plain": [
       "['Lot Area',\n",
       " 'Lot Frontage',\n",
       " 'Garage Area',\n",
       " 'Year Remod/Add',\n",
       " 'BsmtFin Type 1',\n",
       " 'Bsmt Qual',\n",
       " 'Total Bsmt SF',\n",
       " 'Bsmt Unf SF',\n",
       " 'Overall Cond',\n",
       " 'Gr Liv Area',\n",
       " 'Overall Qual',\n",
       " 'Year Built',\n",
       " '1st Flr SF',\n",
       " 'Fireplace Qu']"
      ]
     },
     "execution_count": 5,
     "metadata": {},
     "output_type": "execute_result"
    }
   ],
   "source": [
    "## Continuous columns from previous Notebook\n",
    "continuous = ['Screen Porch','Enclosed Porch','Misc Val','Pool Area',\n",
    "                  'BsmtFin SF 2','1st Flr SF','Open Porch SF','2nd Flr SF','Mas Vnr Area',\n",
    "                  'Lot Area','3Ssn Porch','Gr Liv Area','Garage Area','Total Bsmt SF',\n",
    "                  'Lot Frontage','BsmtFin SF 1','Bsmt Unf SF','Low Qual Fin SF',\n",
    "                  'Wood Deck SF','Year Built','Year Remod/Add']\n",
    "\n",
    "## Ordinal columns from previous Notebook\n",
    "ordinal = ['Lot Shape','Utilities','Land Slope','Overall Qual','Overall Cond','Exter Qual',\n",
    "          'Exter Cond','Bsmt Qual','Bsmt Cond','Bsmt Exposure','BsmtFin Type 1',\n",
    "           'BsmtFin Type 2','Heating QC','Electrical','Kitchen Qual','Functional',\n",
    "           'Fireplace Qu','Garage Finish', 'Garage Qual','Garage Cond','Paved Drive',\n",
    "           'Pool QC','Fence']\n",
    "\n",
    "## Columns containing too much zeros \n",
    "zero_col = ['Screen Porch','Enclosed Porch','Misc Val','Pool Area','BsmtFin SF 2',\n",
    "            'Open Porch SF', '2nd Flr SF','Mas Vnr Area','3Ssn Porch','BsmtFin SF 1',\n",
    "            'Low Qual Fin SF','Wood Deck SF']\n",
    "\n",
    "## Columns containing a too frequent value\n",
    "too_many = ['Utilities','Land Slope','Exter Cond','Bsmt Cond','BsmtFin Type 2','Electrical',\n",
    "            'Functional','Garage Qual','Garage Cond','Paved Drive','Pool QC','Fence']\n",
    "\n",
    "\n",
    "Exclude = list(set(zero_col).union(set(too_many)))\n",
    "Union = list(set(continuous).union(set(ordinal)))\n",
    "\n",
    "poly_cols = [x for x in Union if ((len(df_train[x].value_counts().index)>5) & (x not in Exclude))]\n",
    "poly_cols"
   ]
  },
  {
   "cell_type": "code",
   "execution_count": 6,
   "metadata": {},
   "outputs": [],
   "source": [
    "## The function returning X/y variables\n",
    "#######################################\n",
    "\n",
    "def get_variables(k,deg): \n",
    "    \n",
    "    ## Select k features and return a DataFrame\n",
    "    reduced_df_train = Select_Features(df_train,k)\n",
    "    reduced_df_test = Select_Features(df_test,k)\n",
    "    reduced_df_unseen = Select_Features(df_unseen,k)\n",
    "    \n",
    "    ## Create the polynomial object\n",
    "    pf_obj = PolynomialFeatures(degree=deg, include_bias=False)\n",
    "    \n",
    "    ## Transform the desired columns\n",
    "    cols_to_transform = [x for x in poly_cols if x in reduced_df_train.columns]\n",
    "    \n",
    "    X_train_poly = pf_obj.fit_transform(reduced_df_train[cols_to_transform])\n",
    "    X_test_poly = pf_obj.transform(reduced_df_test[cols_to_transform])\n",
    "    X_unseen_poly = pf_obj.transform(reduced_df_unseen[cols_to_transform])\n",
    "\n",
    "    ## Get complete X variables\n",
    "    ###########################\n",
    "    X_train_other = reduced_df_train.drop(cols_to_transform,axis=1).values\n",
    "    X_test_other = reduced_df_test.drop(cols_to_transform,axis=1).values\n",
    "    X_unseen_other = reduced_df_unseen.drop(cols_to_transform,axis=1).values\n",
    "\n",
    "    X_train = np.c_[X_train_poly,X_train_other]\n",
    "    X_test = np.c_[X_test_poly,X_test_other]\n",
    "    X_unseen = np.c_[X_unseen_poly,X_unseen_other]\n",
    "    \n",
    "    return X_train,X_test,X_unseen"
   ]
  },
  {
   "cell_type": "markdown",
   "metadata": {},
   "source": [
    "### The Pipeline object"
   ]
  },
  {
   "cell_type": "markdown",
   "metadata": {},
   "source": [
    "We define our general model using a Pipeline object with the Ridge regression. We will set the parameter alpha to zero for the simple and intermediate model, which corresonds to the usual linear regression and will search for the best alpha value in the complex model."
   ]
  },
  {
   "cell_type": "code",
   "execution_count": 7,
   "metadata": {},
   "outputs": [],
   "source": [
    "## The Pipeline object\n",
    "######################\n",
    "\n",
    "model = Pipeline([\n",
    "        ('scaler',StandardScaler()),\n",
    "        ('ridge',Ridge())\n",
    "])"
   ]
  },
  {
   "cell_type": "markdown",
   "metadata": {},
   "source": [
    "### Definition of the Class Model\n",
    "\n",
    "We decide to define a Model as a class containing as attributes all important informations about the ridge regression. For instance coefs, intercept term, scores mae mse and all different variables X_tr, y_tr,..."
   ]
  },
  {
   "cell_type": "code",
   "execution_count": 8,
   "metadata": {},
   "outputs": [],
   "source": [
    "## The Class Model\n",
    "##################\n",
    "\n",
    "class Model:\n",
    "    \n",
    "   ## The constructor of the class\n",
    "    ###############################\n",
    "    def __init__(self,k,deg,alpha,random_state):\n",
    "        \n",
    "        ## Get variables\n",
    "        X_train,X_test,X_unseen = get_variables(k,deg)\n",
    "\n",
    "        ## Fix the alpha in the ridge regression\n",
    "        model.set_params(ridge__alpha=alpha)\n",
    "        \n",
    "        ## Fit the ridge regression\n",
    "        model.fit(X_train,y_train)\n",
    "        \n",
    "        ## Compute predictions\n",
    "        y_pred_te, y_pred_tr = model.predict(X_test), model.predict(X_train)\n",
    "        y_pred_un = model.predict(X_unseen)\n",
    "        \n",
    "        ## Compute the MAE and MSE scores\n",
    "        mae_te = MAE(((np.e)**y_test),((np.e)**y_pred_te)) ## recall that we applied\n",
    "        mae_tr = MAE(((np.e)**y_train),((np.e)**y_pred_tr)) ## log(x+1) to the target\n",
    "        mse_te = MSE(y_test,y_pred_te)\n",
    "        mse_tr = MSE(y_train,y_pred_tr)\n",
    "        \n",
    "        ## List of attributes we need\n",
    "        self.mae_te, self.mae_tr = mae_te, mae_tr\n",
    "        self.mse_te, self.mse_tr = mse_te, mse_tr\n",
    "        self.y_pred_un = y_pred_un\n",
    "    \n",
    "    ## A method that print all the scores\n",
    "    #####################################\n",
    "    def print_scores(self,string):\n",
    "        print('MAE test '+string+' model = {:.3f}'.format(self.mae_te))\n",
    "        print('MAE train '+string+' model = {:.3f}'.format(self.mae_tr))\n",
    "        print('MSE test '+string+' model = {}'.format(self.mse_te))\n",
    "        print('MSE test '+string+' model = {}'.format(self.mse_tr))\n",
    "    \n",
    "    ## Return the desired DataFrame of predictions\n",
    "    ##############################################\n",
    "    def get_predictions(self):\n",
    "        df = pd.read_csv('house-prices-test.csv')\n",
    "        PID = df['PID'].values\n",
    "        price = np.e**(self.y_pred_un)-1\n",
    "        pred = [int(x) for x in price]  ## Get the integer part\n",
    "        predictions_df = pd.DataFrame({'PID':PID,'SalePrice':pred})\n",
    "        return predictions_df"
   ]
  },
  {
   "cell_type": "markdown",
   "metadata": {},
   "source": [
    "## Testing three different models\n",
    "\n",
    "We will create three instances of the class Model corresponding to a simple with three features, an intermediate with 20 columns and a complex model with all the features. For the last one, we will apply the cross validation and grid search technique."
   ]
  },
  {
   "cell_type": "code",
   "execution_count": 9,
   "metadata": {},
   "outputs": [
    {
     "name": "stdout",
     "output_type": "stream",
     "text": [
      "MAE test simple model = 23730.485\n",
      "MAE train simple model = 24780.048\n",
      "MSE test simple model = 0.03887648928755171\n",
      "MSE test simple model = 0.03393008597428399\n"
     ]
    }
   ],
   "source": [
    "## The simple model\n",
    "###################\n",
    "Simple_model = Model(k=3,deg=2,alpha=0,random_state=0)\n",
    "\n",
    "## Print the different scores\n",
    "Simple_model.print_scores('simple')"
   ]
  },
  {
   "cell_type": "code",
   "execution_count": 10,
   "metadata": {},
   "outputs": [
    {
     "name": "stdout",
     "output_type": "stream",
     "text": [
      "MAE test intermediate model = 15731.531\n",
      "MAE train intermediate model = 16409.085\n",
      "MSE test intermediate model = 0.023592382467519286\n",
      "MSE test intermediate model = 0.0169555930968071\n"
     ]
    }
   ],
   "source": [
    "## The intermediate model\n",
    "#########################\n",
    "Intermediate_model = Model(k=20,deg=2,alpha=0,random_state=0)\n",
    "\n",
    "## Print the different scores\n",
    "Intermediate_model.print_scores('intermediate')"
   ]
  },
  {
   "cell_type": "markdown",
   "metadata": {},
   "source": [
    "### The complex model"
   ]
  },
  {
   "cell_type": "markdown",
   "metadata": {},
   "source": [
    "Since we are dealing with several variables, it is convenient to add regularization to our model. For this we will look for the best alpha value in the Ridge regression and then average over 10 different sample of the data."
   ]
  },
  {
   "cell_type": "code",
   "execution_count": 11,
   "metadata": {},
   "outputs": [
    {
     "data": {
      "text/html": [
       "<div>\n",
       "<style scoped>\n",
       "    .dataframe tbody tr th:only-of-type {\n",
       "        vertical-align: middle;\n",
       "    }\n",
       "\n",
       "    .dataframe tbody tr th {\n",
       "        vertical-align: top;\n",
       "    }\n",
       "\n",
       "    .dataframe thead th {\n",
       "        text-align: right;\n",
       "    }\n",
       "</style>\n",
       "<table border=\"1\" class=\"dataframe\">\n",
       "  <thead>\n",
       "    <tr style=\"text-align: right;\">\n",
       "      <th></th>\n",
       "      <th>alpha</th>\n",
       "      <th>test_mae</th>\n",
       "      <th>test_mse</th>\n",
       "      <th>train_mae</th>\n",
       "      <th>train_mse</th>\n",
       "    </tr>\n",
       "  </thead>\n",
       "  <tbody>\n",
       "    <tr>\n",
       "      <th>0</th>\n",
       "      <td>0.010000</td>\n",
       "      <td>12504.625548</td>\n",
       "      <td>0.016410</td>\n",
       "      <td>10486.944254</td>\n",
       "      <td>0.007319</td>\n",
       "    </tr>\n",
       "    <tr>\n",
       "      <th>1</th>\n",
       "      <td>0.016103</td>\n",
       "      <td>12499.052524</td>\n",
       "      <td>0.016339</td>\n",
       "      <td>10491.915081</td>\n",
       "      <td>0.007335</td>\n",
       "    </tr>\n",
       "    <tr>\n",
       "      <th>2</th>\n",
       "      <td>0.025929</td>\n",
       "      <td>12490.055112</td>\n",
       "      <td>0.016258</td>\n",
       "      <td>10499.052943</td>\n",
       "      <td>0.007354</td>\n",
       "    </tr>\n",
       "    <tr>\n",
       "      <th>3</th>\n",
       "      <td>0.041753</td>\n",
       "      <td>12476.785844</td>\n",
       "      <td>0.016171</td>\n",
       "      <td>10510.123370</td>\n",
       "      <td>0.007377</td>\n",
       "    </tr>\n",
       "    <tr>\n",
       "      <th>4</th>\n",
       "      <td>0.067234</td>\n",
       "      <td>12458.124742</td>\n",
       "      <td>0.016082</td>\n",
       "      <td>10523.228436</td>\n",
       "      <td>0.007406</td>\n",
       "    </tr>\n",
       "  </tbody>\n",
       "</table>\n",
       "</div>"
      ],
      "text/plain": [
       "      alpha      test_mae  test_mse     train_mae  train_mse\n",
       "0  0.010000  12504.625548  0.016410  10486.944254   0.007319\n",
       "1  0.016103  12499.052524  0.016339  10491.915081   0.007335\n",
       "2  0.025929  12490.055112  0.016258  10499.052943   0.007354\n",
       "3  0.041753  12476.785844  0.016171  10510.123370   0.007377\n",
       "4  0.067234  12458.124742  0.016082  10523.228436   0.007406"
      ]
     },
     "execution_count": 11,
     "metadata": {},
     "output_type": "execute_result"
    }
   ],
   "source": [
    "## Cross validation\n",
    "###################\n",
    "\n",
    "## Store the results\n",
    "gs_result = []\n",
    "## The total number of columns\n",
    "k = len(df_train.columns)\n",
    "\n",
    "## Average over 10 sample\n",
    "#########################\n",
    "for run in range(10):\n",
    "    \n",
    "    ## Grid the alpha\n",
    "    #################\n",
    "    for alpha in np.logspace(-2,4,num=30):\n",
    "    \n",
    "        ## Create the model\n",
    "        model_grid = Model(k=k,deg=2,alpha=alpha,random_state=run)\n",
    "        \n",
    "        ## Save the results\n",
    "        gs_result.append({\n",
    "            'alpha' : alpha,\n",
    "            'train_mse' : model_grid.mse_tr,\n",
    "            'train_mae' : model_grid.mae_tr,\n",
    "            'test_mse' : model_grid.mse_te,\n",
    "            'test_mae' : model_grid.mae_te\n",
    "        })\n",
    "        \n",
    "## Create the DataFrame to store the values\n",
    "###########################################\n",
    "Ridge_result = pd.DataFrame(gs_result)\n",
    "Ridge_result.head()"
   ]
  },
  {
   "cell_type": "code",
   "execution_count": 12,
   "metadata": {},
   "outputs": [],
   "source": [
    "## Group by alpha values\n",
    "########################\n",
    "grouped_alpha = Ridge_result.groupby('alpha')"
   ]
  },
  {
   "cell_type": "code",
   "execution_count": 13,
   "metadata": {},
   "outputs": [
    {
     "name": "stdout",
     "output_type": "stream",
     "text": [
      "Best alpha = 0.4520353656360243\n",
      "MSE score = 0.01579345299568041\n",
      "MAE score = 1.2e+04\n"
     ]
    }
   ],
   "source": [
    "## Extract best alpha with respect to the MAE score\n",
    "###################################################\n",
    "\n",
    "best_alpha = grouped_alpha.test_mae.mean().idxmin()\n",
    "best_score = grouped_alpha.get_group(best_alpha) # the frame with all indices = best_alpha\n",
    "\n",
    "## The variables we need for the validation curve\n",
    "mean_tr = grouped_alpha.train_mae.mean()\n",
    "mean_te = grouped_alpha.test_mae.mean()\n",
    "std_tr = grouped_alpha.train_mae.std()\n",
    "std_te = grouped_alpha.test_mae.std()\n",
    "alphas = grouped_alpha.mean().index\n",
    "\n",
    "## Print the best values\n",
    "print('Best alpha = {}'.format(best_alpha))\n",
    "print('MSE score = {}'.format(best_score.test_mse.mean()))\n",
    "print('MAE score = {:.2}'.format(best_score.test_mae.mean()))"
   ]
  },
  {
   "cell_type": "code",
   "execution_count": 14,
   "metadata": {},
   "outputs": [
    {
     "data": {
      "image/png": "[encoded data removed]",
      "text/plain": [
       "<Figure size 432x288 with 1 Axes>"
      ]
     },
     "metadata": {
      "needs_background": "light"
     },
     "output_type": "display_data"
    }
   ],
   "source": [
    "## The validation curve\n",
    "#######################\n",
    "\n",
    "## The mean\n",
    "plt.plot(np.log10(alphas),mean_tr,label='training')\n",
    "plt.plot(np.log10(alphas),mean_te,label='test')\n",
    "\n",
    "## The std\n",
    "plt.fill_between(np.log10(alphas), mean_tr-std_tr, mean_tr+std_tr, alpha=0.2)\n",
    "plt.fill_between(np.log10(alphas), mean_te-std_te, mean_te+std_te, alpha=0.2)\n",
    "\n",
    "## Best alpha\n",
    "plt.scatter(np.log10(best_alpha),best_score.mean().test_mae,marker='x',c='red',\n",
    "            label='best alpha')\n",
    "\n",
    "## Labels and legend\n",
    "plt.title('Validation curves with 10 runs')\n",
    "plt.xlabel('$\\log_{10}(alpha)$')\n",
    "plt.ylabel('MAE score')\n",
    "plt.legend()\n",
    "plt.show()"
   ]
  },
  {
   "cell_type": "code",
   "execution_count": 15,
   "metadata": {},
   "outputs": [
    {
     "name": "stdout",
     "output_type": "stream",
     "text": [
      "MAE test complex model = 12384.332\n",
      "MAE train complex model = 10654.322\n",
      "MSE test complex model = 0.01579345299568041\n",
      "MSE test complex model = 0.007625566696866696\n"
     ]
    }
   ],
   "source": [
    "## Define the complex model\n",
    "###########################\n",
    "Complex_model = Model(k=k,deg=2,alpha=best_alpha,random_state=0)\n",
    "\n",
    "## Print the scores\n",
    "Complex_model.print_scores('complex')"
   ]
  },
  {
   "cell_type": "markdown",
   "metadata": {},
   "source": [
    "### The baseline model"
   ]
  },
  {
   "cell_type": "code",
   "execution_count": 16,
   "metadata": {},
   "outputs": [
    {
     "name": "stdout",
     "output_type": "stream",
     "text": [
      "MAE test baseline =  53240.51646090533\n",
      "MAE train baseline =  50897.14174541408\n",
      "MSE test baseline =  0.15985680470223648\n",
      "MSE train baseline =  0.1338326738784423\n"
     ]
    }
   ],
   "source": [
    "## The baseline model\n",
    "#####################\n",
    "baseline_model_te = np.full_like(y_test,np.median(y_train))\n",
    "baseline_model_tr = np.full_like(y_train,np.median(y_train))\n",
    "\n",
    "\n",
    "mae_baseline_te = MAE((np.e**baseline_model_te),(np.e**y_test))\n",
    "mae_baseline_tr = MAE((np.e**baseline_model_tr),(np.e**y_train))\n",
    "mse_baseline_te = MSE(baseline_model_te,y_test)\n",
    "mse_baseline_tr = MSE(baseline_model_tr,y_train)\n",
    "\n",
    "## Print the scores\n",
    "print('MAE test baseline = ',mae_baseline_te)\n",
    "print('MAE train baseline = ',mae_baseline_tr)\n",
    "print('MSE test baseline = ',mse_baseline_te)\n",
    "print('MSE train baseline = ',mse_baseline_tr)"
   ]
  },
  {
   "cell_type": "markdown",
   "metadata": {},
   "source": [
    "### Plotting the different MAE scores"
   ]
  },
  {
   "cell_type": "code",
   "execution_count": 17,
   "metadata": {},
   "outputs": [
    {
     "data": {
      "image/png": "[encoded data removed]",
      "text/plain": [
       "<Figure size 432x288 with 1 Axes>"
      ]
     },
     "metadata": {
      "needs_background": "light"
     },
     "output_type": "display_data"
    }
   ],
   "source": [
    "## Plot the different MAE scores\n",
    "################################\n",
    "\n",
    "plt.bar([1,2,3,4],[mae_baseline_te,Simple_model.mae_te,Intermediate_model.mae_te,\n",
    "                  Complex_model.mae_te],edgecolor='black')\n",
    "plt.xticks([1,2,3,4],['Baseline','Simple','Intermediate','Complex'])\n",
    "plt.title('Compare models')\n",
    "plt.ylabel('MAE')\n",
    "plt.show()"
   ]
  },
  {
   "cell_type": "markdown",
   "metadata": {},
   "source": [
    "We see that the mean absolute error becomes smaller when the model is more complex, i.e. there are more features."
   ]
  },
  {
   "cell_type": "markdown",
   "metadata": {},
   "source": [
    "  \n",
    "  \n",
    "  \n",
    "  "
   ]
  },
  {
   "cell_type": "markdown",
   "metadata": {},
   "source": [
    "## Get predictions"
   ]
  },
  {
   "cell_type": "code",
   "execution_count": 18,
   "metadata": {},
   "outputs": [],
   "source": [
    "## Get the df\n",
    "simple_predictions_df = Simple_model.get_predictions()\n",
    "intermediate_predictions_df = Intermediate_model.get_predictions()\n",
    "complex_predictions_df = Complex_model.get_predictions()"
   ]
  },
  {
   "cell_type": "code",
   "execution_count": 19,
   "metadata": {},
   "outputs": [],
   "source": [
    "## Save in csv files\n",
    "simple_predictions_df.to_csv('prediction-simple-model.csv',index=False, encoding='utf-8')\n",
    "intermediate_predictions_df.to_csv('prediction-intermediate-model.csv',index=False, \n",
    "                                                                       encoding='utf-8')\n",
    "complex_predictions_df.to_csv('prediction-complex-model.csv',index=False, encoding='utf-8')"
   ]
  },
  {
   "cell_type": "markdown",
   "metadata": {},
   "source": [
    "If we assume that the 500 houses have been choosen randomly, then our predictions should have approximatively the same distribution as in the original training set.\n",
    "We can check for example the basic statistics associated to these predictions and original data."
   ]
  },
  {
   "cell_type": "code",
   "execution_count": 20,
   "metadata": {},
   "outputs": [
    {
     "data": {
      "text/plain": [
       "count       500.000000\n",
       "mean     183054.034000\n",
       "std       82509.462963\n",
       "min       37193.000000\n",
       "25%      129592.000000\n",
       "50%      161409.000000\n",
       "75%      214733.000000\n",
       "max      677398.000000\n",
       "Name: SalePrice, dtype: float64"
      ]
     },
     "execution_count": 20,
     "metadata": {},
     "output_type": "execute_result"
    }
   ],
   "source": [
    "## Check on the complex model\n",
    "#############################\n",
    "complex_predictions_df['SalePrice'].describe()"
   ]
  },
  {
   "cell_type": "code",
   "execution_count": 21,
   "metadata": {},
   "outputs": [
    {
     "data": {
      "text/plain": [
       "count      1799.000000\n",
       "mean     178473.350750\n",
       "std       68510.765583\n",
       "min       37900.000000\n",
       "25%      130000.000000\n",
       "50%      162500.000000\n",
       "75%      212999.500000\n",
       "max      535000.000000\n",
       "dtype: float64"
      ]
     },
     "execution_count": 21,
     "metadata": {},
     "output_type": "execute_result"
    }
   ],
   "source": [
    "## The original training set\n",
    "pd.Series(np.e**(y_train)-1).describe()"
   ]
  },
  {
   "cell_type": "markdown",
   "metadata": {},
   "source": [
    "We note that the basic statistics coincide pretty well. Only the standard deviation is bigger in the predicted set. Let's plot the distributions."
   ]
  },
  {
   "cell_type": "code",
   "execution_count": 22,
   "metadata": {},
   "outputs": [
    {
     "data": {
      "image/png": "[encoded data removed]",
      "text/plain": [
       "<Figure size 792x720 with 4 Axes>"
      ]
     },
     "metadata": {
      "needs_background": "light"
     },
     "output_type": "display_data"
    }
   ],
   "source": [
    "## Plot the distribution \n",
    "########################\n",
    "fig, (ax1,ax2) = plt.subplots(2,2,figsize=(11,10))\n",
    "## The title\n",
    "plt.suptitle('Distributions of predicted vs real prices',fontsize=15).set_position([0.5, 1.05])\n",
    "## Real prices\n",
    "ax1[0].hist(np.e**(y_train)-1,bins=15,edgecolor='black',color='orange')\n",
    "ax1[0].set_xlabel('SalePrice of the train set',fontsize=13)\n",
    "## Simple predicted prices\n",
    "ax1[1].hist(simple_predictions_df['SalePrice'].values,bins=15,edgecolor='black',color='blue')\n",
    "ax1[1].set_xlabel('Simple predicted SalePrice',fontsize=13)\n",
    "## Intermediate predicted prices\n",
    "ax2[0].hist(intermediate_predictions_df['SalePrice'].values,bins=15,edgecolor='black',color='blue')\n",
    "ax2[0].set_xlabel('Intermediate predicted SalePrice',fontsize=13)\n",
    "## Complex predicted prices\n",
    "ax2[1].hist(complex_predictions_df['SalePrice'].values,bins=15,edgecolor='black',color='blue')\n",
    "ax2[1].set_xlabel('Complex predicted SalePrice',fontsize=13)\n",
    "\n",
    "fig.tight_layout()\n",
    "plt.show()"
   ]
  },
  {
   "cell_type": "code",
   "execution_count": 23,
   "metadata": {},
   "outputs": [
    {
     "data": {
      "text/html": [
       "<div>\n",
       "<style scoped>\n",
       "    .dataframe tbody tr th:only-of-type {\n",
       "        vertical-align: middle;\n",
       "    }\n",
       "\n",
       "    .dataframe tbody tr th {\n",
       "        vertical-align: top;\n",
       "    }\n",
       "\n",
       "    .dataframe thead th {\n",
       "        text-align: right;\n",
       "    }\n",
       "</style>\n",
       "<table border=\"1\" class=\"dataframe\">\n",
       "  <thead>\n",
       "    <tr style=\"text-align: right;\">\n",
       "      <th></th>\n",
       "      <th>PID</th>\n",
       "      <th>SalePrice</th>\n",
       "    </tr>\n",
       "  </thead>\n",
       "  <tbody>\n",
       "    <tr>\n",
       "      <th>194</th>\n",
       "      <td>908154205</td>\n",
       "      <td>613733</td>\n",
       "    </tr>\n",
       "  </tbody>\n",
       "</table>\n",
       "</div>"
      ],
      "text/plain": [
       "           PID  SalePrice\n",
       "194  908154205     613733"
      ]
     },
     "execution_count": 23,
     "metadata": {},
     "output_type": "execute_result"
    }
   ],
   "source": [
    "simple_predictions_df[simple_predictions_df['SalePrice']>=500000]"
   ]
  },
  {
   "cell_type": "markdown",
   "metadata": {},
   "source": [
    "We remark that a house has a quite high predicted price, which should be at the origin of the difference between standard deviations. Indeed, very expensive houses have been ignored when filter the outliers."
   ]
  },
  {
   "cell_type": "code",
   "execution_count": null,
   "metadata": {},
   "outputs": [],
   "source": []
  }
 ],
 "metadata": {
  "kernelspec": {
   "display_name": "Python 3",
   "language": "python",
   "name": "python3"
  },
  "language_info": {
   "codemirror_mode": {
    "name": "ipython",
    "version": 3
   },
   "file_extension": ".py",
   "mimetype": "text/x-python",
   "name": "python",
   "nbconvert_exporter": "python",
   "pygments_lexer": "ipython3",
   "version": "3.6.11"
  }
 },
 "nbformat": 4,
 "nbformat_minor": 4
}
