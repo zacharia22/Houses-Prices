{
 "cells": [
  {
   "cell_type": "code",
   "execution_count": 1,
   "metadata": {},
   "outputs": [],
   "source": [
    "import warnings\n",
    "import pandas as pd\n",
    "from pandas.core.common import SettingWithCopyWarning\n",
    "warnings.simplefilter(action=\"ignore\", category=SettingWithCopyWarning)\n",
    "import numpy as np\n",
    "import matplotlib.pyplot as plt\n",
    "%matplotlib inline\n",
    "import seaborn as sns"
   ]
  },
  {
   "cell_type": "code",
   "execution_count": 2,
   "metadata": {},
   "outputs": [
    {
     "name": "stdout",
     "output_type": "stream",
     "text": [
      "df shape =  (2430, 82)\n",
      "df_test shape =  (500, 81)\n"
     ]
    }
   ],
   "source": [
    "## Download the csv files\n",
    "#########################\n",
    "df = pd.read_csv('house-prices.csv')\n",
    "df_unseen = pd.read_csv('house-prices-test.csv')\n",
    "\n",
    "print('df shape = ',df.shape)\n",
    "print('df_test shape = ',df_unseen.shape)"
   ]
  },
  {
   "cell_type": "markdown",
   "metadata": {},
   "source": [
    "Note that we have 81 columns in the second DataFrame because 'SalePrice' is missing."
   ]
  },
  {
   "cell_type": "code",
   "execution_count": 3,
   "metadata": {},
   "outputs": [
    {
     "data": {
      "text/html": [
       "<div>\n",
       "<style scoped>\n",
       "    .dataframe tbody tr th:only-of-type {\n",
       "        vertical-align: middle;\n",
       "    }\n",
       "\n",
       "    .dataframe tbody tr th {\n",
       "        vertical-align: top;\n",
       "    }\n",
       "\n",
       "    .dataframe thead th {\n",
       "        text-align: right;\n",
       "    }\n",
       "</style>\n",
       "<table border=\"1\" class=\"dataframe\">\n",
       "  <thead>\n",
       "    <tr style=\"text-align: right;\">\n",
       "      <th></th>\n",
       "      <th>Order</th>\n",
       "      <th>PID</th>\n",
       "      <th>MS SubClass</th>\n",
       "      <th>MS Zoning</th>\n",
       "      <th>Lot Frontage</th>\n",
       "      <th>Lot Area</th>\n",
       "      <th>Street</th>\n",
       "      <th>Alley</th>\n",
       "      <th>Lot Shape</th>\n",
       "      <th>Land Contour</th>\n",
       "      <th>...</th>\n",
       "      <th>Pool Area</th>\n",
       "      <th>Pool QC</th>\n",
       "      <th>Fence</th>\n",
       "      <th>Misc Feature</th>\n",
       "      <th>Misc Val</th>\n",
       "      <th>Mo Sold</th>\n",
       "      <th>Yr Sold</th>\n",
       "      <th>Sale Type</th>\n",
       "      <th>Sale Condition</th>\n",
       "      <th>SalePrice</th>\n",
       "    </tr>\n",
       "  </thead>\n",
       "  <tbody>\n",
       "    <tr>\n",
       "      <th>0</th>\n",
       "      <td>484</td>\n",
       "      <td>528275070</td>\n",
       "      <td>60</td>\n",
       "      <td>RL</td>\n",
       "      <td>NaN</td>\n",
       "      <td>8795</td>\n",
       "      <td>Pave</td>\n",
       "      <td>NaN</td>\n",
       "      <td>IR1</td>\n",
       "      <td>Lvl</td>\n",
       "      <td>...</td>\n",
       "      <td>0</td>\n",
       "      <td>NaN</td>\n",
       "      <td>NaN</td>\n",
       "      <td>NaN</td>\n",
       "      <td>0</td>\n",
       "      <td>4</td>\n",
       "      <td>2009</td>\n",
       "      <td>WD</td>\n",
       "      <td>Normal</td>\n",
       "      <td>236000</td>\n",
       "    </tr>\n",
       "    <tr>\n",
       "      <th>1</th>\n",
       "      <td>2586</td>\n",
       "      <td>535305120</td>\n",
       "      <td>20</td>\n",
       "      <td>RL</td>\n",
       "      <td>75.0</td>\n",
       "      <td>10170</td>\n",
       "      <td>Pave</td>\n",
       "      <td>NaN</td>\n",
       "      <td>Reg</td>\n",
       "      <td>Lvl</td>\n",
       "      <td>...</td>\n",
       "      <td>0</td>\n",
       "      <td>NaN</td>\n",
       "      <td>NaN</td>\n",
       "      <td>NaN</td>\n",
       "      <td>0</td>\n",
       "      <td>6</td>\n",
       "      <td>2006</td>\n",
       "      <td>WD</td>\n",
       "      <td>Normal</td>\n",
       "      <td>155000</td>\n",
       "    </tr>\n",
       "    <tr>\n",
       "      <th>2</th>\n",
       "      <td>2289</td>\n",
       "      <td>923228250</td>\n",
       "      <td>160</td>\n",
       "      <td>RM</td>\n",
       "      <td>21.0</td>\n",
       "      <td>2001</td>\n",
       "      <td>Pave</td>\n",
       "      <td>NaN</td>\n",
       "      <td>Reg</td>\n",
       "      <td>Lvl</td>\n",
       "      <td>...</td>\n",
       "      <td>0</td>\n",
       "      <td>NaN</td>\n",
       "      <td>NaN</td>\n",
       "      <td>NaN</td>\n",
       "      <td>0</td>\n",
       "      <td>1</td>\n",
       "      <td>2007</td>\n",
       "      <td>WD</td>\n",
       "      <td>Normal</td>\n",
       "      <td>75000</td>\n",
       "    </tr>\n",
       "    <tr>\n",
       "      <th>3</th>\n",
       "      <td>142</td>\n",
       "      <td>535152150</td>\n",
       "      <td>20</td>\n",
       "      <td>RL</td>\n",
       "      <td>70.0</td>\n",
       "      <td>10552</td>\n",
       "      <td>Pave</td>\n",
       "      <td>NaN</td>\n",
       "      <td>IR1</td>\n",
       "      <td>Lvl</td>\n",
       "      <td>...</td>\n",
       "      <td>0</td>\n",
       "      <td>NaN</td>\n",
       "      <td>NaN</td>\n",
       "      <td>NaN</td>\n",
       "      <td>0</td>\n",
       "      <td>4</td>\n",
       "      <td>2010</td>\n",
       "      <td>WD</td>\n",
       "      <td>Normal</td>\n",
       "      <td>165500</td>\n",
       "    </tr>\n",
       "    <tr>\n",
       "      <th>4</th>\n",
       "      <td>2042</td>\n",
       "      <td>903475060</td>\n",
       "      <td>190</td>\n",
       "      <td>RM</td>\n",
       "      <td>60.0</td>\n",
       "      <td>10120</td>\n",
       "      <td>Pave</td>\n",
       "      <td>NaN</td>\n",
       "      <td>IR1</td>\n",
       "      <td>Bnk</td>\n",
       "      <td>...</td>\n",
       "      <td>0</td>\n",
       "      <td>NaN</td>\n",
       "      <td>MnPrv</td>\n",
       "      <td>NaN</td>\n",
       "      <td>0</td>\n",
       "      <td>1</td>\n",
       "      <td>2007</td>\n",
       "      <td>WD</td>\n",
       "      <td>Normal</td>\n",
       "      <td>122000</td>\n",
       "    </tr>\n",
       "  </tbody>\n",
       "</table>\n",
       "<p>5 rows × 82 columns</p>\n",
       "</div>"
      ],
      "text/plain": [
       "   Order        PID  MS SubClass MS Zoning  Lot Frontage  Lot Area Street  \\\n",
       "0    484  528275070           60        RL           NaN      8795   Pave   \n",
       "1   2586  535305120           20        RL          75.0     10170   Pave   \n",
       "2   2289  923228250          160        RM          21.0      2001   Pave   \n",
       "3    142  535152150           20        RL          70.0     10552   Pave   \n",
       "4   2042  903475060          190        RM          60.0     10120   Pave   \n",
       "\n",
       "  Alley Lot Shape Land Contour  ... Pool Area Pool QC  Fence Misc Feature  \\\n",
       "0   NaN       IR1          Lvl  ...         0     NaN    NaN          NaN   \n",
       "1   NaN       Reg          Lvl  ...         0     NaN    NaN          NaN   \n",
       "2   NaN       Reg          Lvl  ...         0     NaN    NaN          NaN   \n",
       "3   NaN       IR1          Lvl  ...         0     NaN    NaN          NaN   \n",
       "4   NaN       IR1          Bnk  ...         0     NaN  MnPrv          NaN   \n",
       "\n",
       "  Misc Val Mo Sold Yr Sold Sale Type  Sale Condition  SalePrice  \n",
       "0        0       4    2009       WD           Normal     236000  \n",
       "1        0       6    2006       WD           Normal     155000  \n",
       "2        0       1    2007       WD           Normal      75000  \n",
       "3        0       4    2010       WD           Normal     165500  \n",
       "4        0       1    2007       WD           Normal     122000  \n",
       "\n",
       "[5 rows x 82 columns]"
      ]
     },
     "execution_count": 3,
     "metadata": {},
     "output_type": "execute_result"
    }
   ],
   "source": [
    "## Print the first five rows\n",
    "df.head()"
   ]
  },
  {
   "cell_type": "markdown",
   "metadata": {},
   "source": [
    "The Order and PID variables are identifiers. They are not useful to predict house prices, so we can drop these two variables."
   ]
  },
  {
   "cell_type": "code",
   "execution_count": 4,
   "metadata": {},
   "outputs": [],
   "source": [
    "## Drop these two columns\n",
    "#########################\n",
    "df.drop(['Order','PID'],axis=1,inplace=True)\n",
    "df_unseen.drop(['Order','PID'],axis=1,inplace=True)"
   ]
  },
  {
   "cell_type": "markdown",
   "metadata": {},
   "source": [
    "# Split columns"
   ]
  },
  {
   "cell_type": "markdown",
   "metadata": {},
   "source": [
    "Before cleaning the data, which means handle with missing/incorrect/inconsistency values and outliers, it seems to be usefull to split the columns according to their different nature. For example numerical, categorical."
   ]
  },
  {
   "cell_type": "code",
   "execution_count": 5,
   "metadata": {},
   "outputs": [
    {
     "name": "stdout",
     "output_type": "stream",
     "text": [
      "Number of numerical columns = 37\n"
     ]
    }
   ],
   "source": [
    "## Numerical columns\n",
    "####################\n",
    "\n",
    "numerical_col = df._get_numeric_data().columns\n",
    "\n",
    "## Print its length\n",
    "print('Number of numerical columns = {}'.format(len(numerical_col)))"
   ]
  },
  {
   "cell_type": "markdown",
   "metadata": {},
   "source": [
    "\n",
    "Using the documentation.txt file, we classify the categorical columns into ordinal, nominal and discrete."
   ]
  },
  {
   "cell_type": "code",
   "execution_count": 6,
   "metadata": {},
   "outputs": [],
   "source": [
    "## Nominal columns\n",
    "##################\n",
    "nominal_col = ['MS SubClass','MS Zoning','Street','Alley','Land Contour','Lot Config',\n",
    "              'Neighborhood','Condition 1','Condition 2','Bldg Type','House Style',\n",
    "               'Roof Style','Roof Matl','Exterior 1st','Exterior 2nd','Mas Vnr Type',\n",
    "               'Foundation','Heating','Central Air','Garage Type','Misc Feature',\n",
    "               'Sale Type','Sale Condition']\n",
    "\n",
    "## Ordinal columns\n",
    "##################\n",
    "ordinal_col = ['Lot Shape','Utilities','Land Slope','Overall Qual','Overall Cond',\n",
    "               'Exter Qual','Exter Cond','Bsmt Qual','Bsmt Cond','Bsmt Exposure',\n",
    "              'BsmtFin Type 1','BsmtFin Type 2','Heating QC','Electrical','Kitchen Qual',\n",
    "              'Functional','Fireplace Qu','Garage Finish','Garage Qual','Garage Cond',\n",
    "              'Paved Drive','Pool QC','Fence']\n",
    "\n",
    "## Discrete columns\n",
    "###################\n",
    "discrete_col = ['Year Built','Year Remod/Add','Bsmt Full Bath','Bsmt Half Bath','Full Bath',\n",
    "               'Half Bath','Bedroom AbvGr','Kitchen AbvGr','TotRms AbvGrd','Fireplaces',\n",
    "                'Garage Yr Blt','Garage Cars','Mo Sold','Yr Sold']"
   ]
  },
  {
   "cell_type": "markdown",
   "metadata": {},
   "source": [
    "If we sum the length of each categorical columns + the numerical one, then we get 97 ! We can look at the intersection of the above three lists with the numerical one."
   ]
  },
  {
   "cell_type": "code",
   "execution_count": 7,
   "metadata": {},
   "outputs": [
    {
     "name": "stdout",
     "output_type": "stream",
     "text": [
      "Intersection with Nominal = {'MS SubClass'}\n",
      "Intersection with Ordinal = {'Overall Qual', 'Overall Cond'}\n",
      "Intersection with Discrete = {'Bedroom AbvGr', 'Full Bath', 'Year Built', 'TotRms AbvGrd', 'Mo Sold', 'Half Bath', 'Fireplaces', 'Kitchen AbvGr', 'Garage Yr Blt', 'Bsmt Half Bath', 'Yr Sold', 'Year Remod/Add', 'Bsmt Full Bath', 'Garage Cars'}\n"
     ]
    }
   ],
   "source": [
    "## Compute the different intersections\n",
    "######################################\n",
    "\n",
    "set_num = set(numerical_col)\n",
    "set_nom = set(nominal_col)\n",
    "set_ord = set(ordinal_col)\n",
    "set_disc = set(discrete_col)\n",
    "A = set_num.intersection(set_nom)\n",
    "B = set_num.intersection(set_ord)\n",
    "C = set_num.intersection(set_disc)\n",
    "\n",
    "print('Intersection with Nominal = {}'.format(A))\n",
    "print('Intersection with Ordinal = {}'.format(B))\n",
    "print('Intersection with Discrete = {}'.format(C))"
   ]
  },
  {
   "cell_type": "code",
   "execution_count": 8,
   "metadata": {},
   "outputs": [],
   "source": [
    "## Actualizing the numerical columns\n",
    "####################################\n",
    "set_num = set_num - (A.union(B.union(C)))\n",
    "continous_col = list(set_num)\n",
    "\n",
    "## We create also a continuous list for df_test\n",
    "continous_col_test = [x for x in continous_col if (x!= 'SalePrice')]"
   ]
  },
  {
   "cell_type": "code",
   "execution_count": 9,
   "metadata": {},
   "outputs": [
    {
     "data": {
      "text/plain": [
       "80"
      ]
     },
     "execution_count": 9,
     "metadata": {},
     "output_type": "execute_result"
    }
   ],
   "source": [
    "## Size of the union of all columns\n",
    "###################################\n",
    "len(nominal_col)+len(ordinal_col)+len(discrete_col)+len(continous_col)"
   ]
  },
  {
   "cell_type": "markdown",
   "metadata": {},
   "source": [
    "# Cleaning data \n",
    "                 \n",
    "Before cleaning the data, we split df into a train and a test set. We clean the data according to the four different categories we established before. For instance, we will handle with missing/incorrect values and remove outliers. For missing values, it is enough to analyze them in the principal one and then fill NaN values in the other df."
   ]
  },
  {
   "cell_type": "code",
   "execution_count": 10,
   "metadata": {},
   "outputs": [
    {
     "name": "stdout",
     "output_type": "stream",
     "text": [
      "df_train :  (1944, 80)\n",
      "df_test :  (486, 80)\n"
     ]
    }
   ],
   "source": [
    "## Splitting data\n",
    "#################\n",
    "from sklearn.model_selection import train_test_split\n",
    "\n",
    "df_train,df_test = train_test_split(df,test_size=0.2,random_state=0)\n",
    "\n",
    "\n",
    "print('df_train : ',df_train.shape)\n",
    "print('df_test : ',df_test.shape)"
   ]
  },
  {
   "cell_type": "markdown",
   "metadata": {},
   "source": [
    "## Nominal features\n",
    "\n",
    "First of all, let's check if we have incorrect values."
   ]
  },
  {
   "cell_type": "code",
   "execution_count": 11,
   "metadata": {},
   "outputs": [
    {
     "name": "stdout",
     "output_type": "stream",
     "text": [
      "MS SubClass : [20, 60, 50, 120, 30, 70, 160, 80, 90, 190, 85, 75, 45, 180, 40, 150]\n",
      "MS Zoning : ['RL', 'RM', 'FV', 'RH', 'C (all)', 'A (agr)', 'I (all)']\n",
      "Street : ['Pave', 'Grvl']\n",
      "Alley : ['Grvl', 'Pave']\n",
      "Land Contour : ['Lvl', 'Bnk', 'HLS', 'Low']\n",
      "Lot Config : ['Inside', 'Corner', 'CulDSac', 'FR2', 'FR3']\n",
      "Neighborhood : ['NAmes', 'CollgCr', 'OldTown', 'Edwards', 'Somerst', 'Gilbert', 'NridgHt', 'Sawyer', 'NWAmes', 'SawyerW', 'Mitchel', 'BrkSide', 'Crawfor', 'IDOTRR', 'Timber', 'NoRidge', 'StoneBr', 'ClearCr', 'SWISU', 'MeadowV', 'BrDale', 'Blmngtn', 'NPkVill', 'Veenker', 'Greens', 'Blueste', 'GrnHill', 'Landmrk']\n",
      "Condition 1 : ['Norm', 'Feedr', 'Artery', 'RRAn', 'PosN', 'RRAe', 'PosA', 'RRNn', 'RRNe']\n",
      "Condition 2 : ['Norm', 'Feedr', 'Artery', 'PosA', 'RRNn', 'PosN', 'RRAe', 'RRAn']\n",
      "Bldg Type : ['1Fam', 'TwnhsE', 'Twnhs', 'Duplex', '2fmCon']\n",
      "House Style : ['1Story', '2Story', '1.5Fin', 'SLvl', 'SFoyer', '2.5Unf', '1.5Unf', '2.5Fin']\n",
      "Roof Style : ['Gable', 'Hip', 'Gambrel', 'Flat', 'Mansard', 'Shed']\n",
      "Roof Matl : ['CompShg', 'Tar&Grv', 'WdShake', 'WdShngl', 'ClyTile', 'Metal', 'Membran']\n",
      "Exterior 1st : ['VinylSd', 'MetalSd', 'HdBoard', 'Wd Sdng', 'Plywood', 'CemntBd', 'BrkFace', 'WdShing', 'Stucco', 'AsbShng', 'BrkComm', 'Stone', 'AsphShn', 'CBlock', 'ImStucc', 'PreCast']\n",
      "Exterior 2nd : ['VinylSd', 'MetalSd', 'HdBoard', 'Wd Sdng', 'Plywood', 'CmentBd', 'Wd Shng', 'BrkFace', 'Stucco', 'AsbShng', 'Brk Cmn', 'ImStucc', 'Stone', 'AsphShn', 'CBlock', 'PreCast']\n",
      "Mas Vnr Type : ['None', 'BrkFace', 'Stone', 'BrkCmn', 'CBlock']\n",
      "Foundation : ['PConc', 'CBlock', 'BrkTil', 'Slab', 'Stone', 'Wood']\n",
      "Heating : ['GasA', 'GasW', 'Grav', 'Wall', 'Floor', 'OthW']\n",
      "Central Air : ['Y', 'N']\n",
      "Garage Type : ['Attchd', 'Detchd', 'BuiltIn', 'Basment', '2Types', 'CarPort']\n",
      "Misc Feature : ['Shed', 'Gar2', 'Othr', 'TenC', 'Elev']\n",
      "Sale Type : ['WD ', 'New', 'COD', 'ConLD', 'CWD', 'ConLI', 'Oth', 'Con', 'ConLw', 'VWD']\n",
      "Sale Condition : ['Normal', 'Partial', 'Abnorml', 'Family', 'Alloca', 'AdjLand']\n"
     ]
    }
   ],
   "source": [
    "## Loop to list all values of the different nominal columns\n",
    "###########################################################\n",
    "for c in nominal_col:\n",
    "    values =list(df[c].value_counts().index.values)\n",
    "    print(c+' :',values)"
   ]
  },
  {
   "cell_type": "markdown",
   "metadata": {},
   "source": [
    "The MS SubClass are in fact integers for type of dwelling involved in the sale. Since the numbers seem to be arbitrary, this variable should be considered as a discrete one. It seems that there are no incorrect values on these columns."
   ]
  },
  {
   "cell_type": "code",
   "execution_count": 12,
   "metadata": {},
   "outputs": [],
   "source": [
    "## Remove and put MS SubClass in discrete columns\n",
    "#################################################\n",
    "discrete_col.append('MS SubClass')\n",
    "nominal_col.remove('MS SubClass')"
   ]
  },
  {
   "cell_type": "markdown",
   "metadata": {},
   "source": [
    "### Deal with missing values"
   ]
  },
  {
   "cell_type": "code",
   "execution_count": 13,
   "metadata": {},
   "outputs": [
    {
     "data": {
      "text/plain": [
       "MS Zoning            0\n",
       "Street               0\n",
       "Alley             2267\n",
       "Land Contour         0\n",
       "Lot Config           0\n",
       "Neighborhood         0\n",
       "Condition 1          0\n",
       "Condition 2          0\n",
       "Bldg Type            0\n",
       "House Style          0\n",
       "Roof Style           0\n",
       "Roof Matl            0\n",
       "Exterior 1st         0\n",
       "Exterior 2nd         0\n",
       "Mas Vnr Type        20\n",
       "Foundation           0\n",
       "Heating              0\n",
       "Central Air          0\n",
       "Garage Type        136\n",
       "Misc Feature      2340\n",
       "Sale Type            0\n",
       "Sale Condition       0\n",
       "dtype: int64"
      ]
     },
     "execution_count": 13,
     "metadata": {},
     "output_type": "execute_result"
    }
   ],
   "source": [
    "## Number of NaN in each column\n",
    "###############################\n",
    "df[nominal_col].isnull().sum()"
   ]
  },
  {
   "cell_type": "markdown",
   "metadata": {},
   "source": [
    "We interpret the NaN values in the columns 'Alley', 'Garage Type' and 'Misc Feature' as 'No such feature' and in 'Mas Vnr Type' as a missing value.\n",
    "We thus fill NaN values in the first three columns with 'None' and the last one with the most frequent value in df_train."
   ]
  },
  {
   "cell_type": "code",
   "execution_count": 14,
   "metadata": {},
   "outputs": [],
   "source": [
    "## Fill missing values\n",
    "######################\n",
    "\n",
    "## The first three columns\n",
    "col = ['Alley','Garage Type','Misc Feature']\n",
    "## Filling the three df\n",
    "df_train[col] = df_train[col].fillna(value='None')\n",
    "df_test[col] = df_test[col].fillna(value='None')\n",
    "df_unseen[col] = df_unseen[col].fillna(value='None')\n",
    "\n",
    "## The most frequent value in df_train\n",
    "Most_freq = df_train['Mas Vnr Type'].value_counts().idxmax()\n",
    "\n",
    "## Fill with this string\n",
    "df_train['Mas Vnr Type'] = df_train['Mas Vnr Type'].fillna(value = Most_freq)\n",
    "df_test['Mas Vnr Type'] = df_test['Mas Vnr Type'].fillna(value = Most_freq)\n",
    "df_unseen['Mas Vnr Type'] = df_unseen['Mas Vnr Type'].fillna(value = Most_freq)"
   ]
  },
  {
   "cell_type": "code",
   "execution_count": 15,
   "metadata": {},
   "outputs": [
    {
     "name": "stdout",
     "output_type": "stream",
     "text": [
      "Nominal NaN values df_train = 0\n",
      "Nominal NaN values df_test = 0\n",
      "Nominal NaN values df_unseen = 0\n"
     ]
    }
   ],
   "source": [
    "## We check the final result\n",
    "############################\n",
    "print('Nominal NaN values df_train = {}'.format(df_train[nominal_col].isnull().sum().sum()))\n",
    "print('Nominal NaN values df_test = {}'.format(df_test[nominal_col].isnull().sum().sum()))\n",
    "print('Nominal NaN values df_unseen = {}'.format(df_unseen[nominal_col].isnull().sum().sum()))"
   ]
  },
  {
   "cell_type": "markdown",
   "metadata": {},
   "source": [
    "## Discrete features"
   ]
  },
  {
   "cell_type": "markdown",
   "metadata": {},
   "source": [
    "### Find incorrect data"
   ]
  },
  {
   "cell_type": "markdown",
   "metadata": {},
   "source": [
    "As before, we start by looking at the possible values in each column in order to detect some incorrect ones. For instance an incorrect date."
   ]
  },
  {
   "cell_type": "code",
   "execution_count": 16,
   "metadata": {},
   "outputs": [
    {
     "name": "stdout",
     "output_type": "stream",
     "text": [
      "Year Built : [2005, 2006, 2007, 2004, 2003, 1920, 1977, 1976, 1999, 2008, 2002, 1958, 1968, 1954, 1910, 2000, 1998, 1967, 1978, 1972, 1959, 1993, 1970, 1971, 1940, 2001, 1961, 1925, 1997, 1994, 1960, 1965, 1955, 1950, 1962, 1956, 1957, 1963, 1969, 1964, 1966, 1996, 1930, 1900, 1995, 1974, 1980, 1948, 1953, 1992, 1975, 1984, 2009, 1979, 1915, 1990, 1973, 1939, 1926, 1941, 1951, 1952, 1923, 1949, 1922, 1945, 1924, 1988, 1991, 1946, 1947, 1935, 1936, 1986, 1927, 1921, 1981, 1916, 1918, 1914, 1928, 1937, 1929, 1989, 1938, 1987, 1890, 1983, 1985, 1931, 1942, 1912, 1932, 1880, 1934, 1919, 1982, 1917, 1905, 1892, 1901, 1895, 1885, 1907, 1911, 1879, 1893, 1908, 1904, 1902, 2010, 1898, 1896, 1913, 1875]\n",
      "Year Remod/Add : [1950, 2006, 2007, 2005, 2004, 2000, 2003, 2002, 2008, 1998, 1999, 1995, 1996, 1994, 1976, 2001, 1977, 1997, 1993, 1968, 1970, 1978, 1972, 1967, 1958, 1971, 1975, 1992, 1969, 1991, 1990, 1980, 1960, 1954, 2009, 1965, 1959, 1963, 1979, 1956, 1962, 1961, 1955, 1964, 1984, 1974, 1966, 1973, 1953, 1957, 1989, 1988, 1986, 1952, 1985, 1951, 2010, 1981, 1987, 1983, 1982]\n",
      "Bsmt Full Bath : [0.0, 1.0, 2.0, 3.0]\n",
      "Bsmt Half Bath : [0.0, 1.0, 2.0]\n",
      "Full Bath : [2, 1, 3, 0, 4]\n",
      "Half Bath : [0, 1, 2]\n",
      "Bedroom AbvGr : [3, 2, 4, 1, 5, 6, 0, 8]\n",
      "Kitchen AbvGr : [1, 2, 0, 3]\n",
      "TotRms AbvGrd : [6, 7, 5, 8, 4, 9, 10, 11, 3, 12, 15, 13, 14, 2]\n",
      "Fireplaces : [0, 1, 2, 3, 4]\n",
      "Garage Yr Blt : [2005.0, 2007.0, 2006.0, 2004.0, 2003.0, 1977.0, 2008.0, 2002.0, 1998.0, 1976.0, 1999.0, 2000.0, 1968.0, 1993.0, 1950.0, 1978.0, 2001.0, 1958.0, 1997.0, 1954.0, 1967.0, 1974.0, 1959.0, 1965.0, 1956.0, 1920.0, 1979.0, 1994.0, 1969.0, 1960.0, 1966.0, 1961.0, 1963.0, 1964.0, 1996.0, 1980.0, 1962.0, 1957.0, 1995.0, 1970.0, 1930.0, 1972.0, 1975.0, 1990.0, 1973.0, 1955.0, 1940.0, 1992.0, 2009.0, 1953.0, 1971.0, 1984.0, 1939.0, 1989.0, 1948.0, 1991.0, 1926.0, 1988.0, 1981.0, 1951.0, 1987.0, 1985.0, 1952.0, 1986.0, 1925.0, 1949.0, 1941.0, 1910.0, 1983.0, 1938.0, 1945.0, 1936.0, 1935.0, 1946.0, 1922.0, 1924.0, 1928.0, 1900.0, 1942.0, 1927.0, 1923.0, 1915.0, 1932.0, 1921.0, 1937.0, 1947.0, 1916.0, 2010.0, 1982.0, 1934.0, 1918.0, 1931.0, 1929.0, 1917.0, 1914.0, 2207.0, 1943.0, 1933.0, 1919.0, 1896.0, 1908.0]\n",
      "Garage Cars : [2.0, 1.0, 3.0, 0.0, 4.0]\n",
      "Mo Sold : [6, 7, 5, 4, 3, 8, 10, 9, 11, 2, 1, 12]\n",
      "Yr Sold : [2007, 2008, 2009, 2006, 2010]\n",
      "MS SubClass : [20, 60, 50, 120, 30, 70, 160, 80, 90, 190, 85, 75, 45, 180, 40, 150]\n"
     ]
    }
   ],
   "source": [
    "## Print possible values\n",
    "########################\n",
    "for c in discrete_col:\n",
    "    values =list(df[c].value_counts().index.values)\n",
    "    print(c+' :',values)"
   ]
  },
  {
   "cell_type": "code",
   "execution_count": 17,
   "metadata": {},
   "outputs": [
    {
     "data": {
      "text/html": [
       "<div>\n",
       "<style scoped>\n",
       "    .dataframe tbody tr th:only-of-type {\n",
       "        vertical-align: middle;\n",
       "    }\n",
       "\n",
       "    .dataframe tbody tr th {\n",
       "        vertical-align: top;\n",
       "    }\n",
       "\n",
       "    .dataframe thead th {\n",
       "        text-align: right;\n",
       "    }\n",
       "</style>\n",
       "<table border=\"1\" class=\"dataframe\">\n",
       "  <thead>\n",
       "    <tr style=\"text-align: right;\">\n",
       "      <th></th>\n",
       "      <th>Garage Yr Blt</th>\n",
       "      <th>Year Built</th>\n",
       "    </tr>\n",
       "  </thead>\n",
       "  <tbody>\n",
       "    <tr>\n",
       "      <th>2219</th>\n",
       "      <td>2207.0</td>\n",
       "      <td>2006</td>\n",
       "    </tr>\n",
       "  </tbody>\n",
       "</table>\n",
       "</div>"
      ],
      "text/plain": [
       "      Garage Yr Blt  Year Built\n",
       "2219         2207.0        2006"
      ]
     },
     "execution_count": 17,
     "metadata": {},
     "output_type": "execute_result"
    }
   ],
   "source": [
    "## A first incorrect value\n",
    "##########################\n",
    "df[df['Garage Yr Blt']>2010][['Garage Yr Blt','Year Built']]"
   ]
  },
  {
   "cell_type": "code",
   "execution_count": 18,
   "metadata": {},
   "outputs": [],
   "source": [
    "## change 2207 by 2007 in test+train\n",
    "#####################################\n",
    "df_train['Garage Yr Blt'].replace(to_replace = {2207.0:2007.0},inplace=True)\n",
    "df_test['Garage Yr Blt'].replace(to_replace = {2207.0:2007.0},inplace=True)\n",
    "df_unseen['Garage Yr Blt'].replace(to_replace = {2207.0:2007.0},inplace=True)"
   ]
  },
  {
   "cell_type": "markdown",
   "metadata": {},
   "source": [
    "We can check that the year of built is less than the year of remod."
   ]
  },
  {
   "cell_type": "code",
   "execution_count": 19,
   "metadata": {},
   "outputs": [
    {
     "data": {
      "text/plain": [
       "0"
      ]
     },
     "execution_count": 19,
     "metadata": {},
     "output_type": "execute_result"
    }
   ],
   "source": [
    "(df['Year Built']>df['Year Remod/Add']).sum()"
   ]
  },
  {
   "cell_type": "markdown",
   "metadata": {},
   "source": [
    "We do the same for df_unseen. For instance, we check the three columns involving dates."
   ]
  },
  {
   "cell_type": "code",
   "execution_count": 20,
   "metadata": {},
   "outputs": [
    {
     "data": {
      "text/plain": [
       "array([1895., 1900., 1906., 1910., 1915., 1916., 1918., 1920., 1921.,\n",
       "       1922., 1923., 1924., 1925., 1926., 1928., 1930., 1931., 1934.,\n",
       "       1935., 1937., 1938., 1939., 1940., 1941., 1942., 1945., 1946.,\n",
       "       1947., 1948., 1949., 1950., 1951., 1952., 1953., 1954., 1955.,\n",
       "       1956., 1957., 1958., 1959., 1960., 1961., 1962., 1963., 1964.,\n",
       "       1965., 1966., 1967., 1968., 1969., 1970., 1971., 1972., 1973.,\n",
       "       1974., 1975., 1976., 1977., 1978., 1979., 1980., 1981., 1982.,\n",
       "       1983., 1985., 1986., 1987., 1988., 1989., 1990., 1991., 1992.,\n",
       "       1993., 1994., 1995., 1996., 1997., 1998., 1999., 2000., 2001.,\n",
       "       2002., 2003., 2004., 2005., 2006., 2007., 2008., 2009., 2010.])"
      ]
     },
     "execution_count": 20,
     "metadata": {},
     "output_type": "execute_result"
    }
   ],
   "source": [
    "np.sort(df_unseen['Garage Yr Blt'].value_counts().index)"
   ]
  },
  {
   "cell_type": "code",
   "execution_count": 21,
   "metadata": {},
   "outputs": [
    {
     "data": {
      "text/plain": [
       "array([1872, 1880, 1882, 1890, 1895, 1900, 1905, 1906, 1908, 1910, 1912,\n",
       "       1915, 1916, 1918, 1919, 1920, 1921, 1922, 1923, 1924, 1925, 1926,\n",
       "       1928, 1929, 1930, 1931, 1932, 1934, 1935, 1936, 1937, 1938, 1939,\n",
       "       1940, 1941, 1942, 1945, 1946, 1947, 1948, 1949, 1950, 1951, 1952,\n",
       "       1953, 1954, 1955, 1956, 1957, 1958, 1959, 1960, 1961, 1962, 1963,\n",
       "       1964, 1965, 1966, 1967, 1968, 1969, 1970, 1971, 1972, 1973, 1974,\n",
       "       1975, 1976, 1977, 1978, 1979, 1980, 1981, 1982, 1983, 1985, 1986,\n",
       "       1987, 1988, 1989, 1990, 1991, 1992, 1993, 1994, 1995, 1996, 1997,\n",
       "       1998, 1999, 2000, 2001, 2002, 2003, 2004, 2005, 2006, 2007, 2008,\n",
       "       2009, 2010])"
      ]
     },
     "execution_count": 21,
     "metadata": {},
     "output_type": "execute_result"
    }
   ],
   "source": [
    "np.sort(df_unseen['Year Built'].value_counts().index)"
   ]
  },
  {
   "cell_type": "code",
   "execution_count": 22,
   "metadata": {},
   "outputs": [
    {
     "data": {
      "text/plain": [
       "array([1950, 1951, 1952, 1953, 1954, 1955, 1956, 1957, 1958, 1959, 1960,\n",
       "       1961, 1962, 1963, 1964, 1965, 1966, 1967, 1968, 1969, 1970, 1971,\n",
       "       1972, 1973, 1975, 1976, 1977, 1978, 1979, 1980, 1981, 1982, 1983,\n",
       "       1985, 1986, 1987, 1988, 1989, 1990, 1991, 1992, 1993, 1994, 1995,\n",
       "       1996, 1997, 1998, 1999, 2000, 2001, 2002, 2003, 2004, 2005, 2006,\n",
       "       2007, 2008, 2009, 2010])"
      ]
     },
     "execution_count": 22,
     "metadata": {},
     "output_type": "execute_result"
    }
   ],
   "source": [
    "np.sort(df_unseen['Year Remod/Add'].value_counts().index)"
   ]
  },
  {
   "cell_type": "code",
   "execution_count": 23,
   "metadata": {},
   "outputs": [
    {
     "data": {
      "text/html": [
       "<div>\n",
       "<style scoped>\n",
       "    .dataframe tbody tr th:only-of-type {\n",
       "        vertical-align: middle;\n",
       "    }\n",
       "\n",
       "    .dataframe tbody tr th {\n",
       "        vertical-align: top;\n",
       "    }\n",
       "\n",
       "    .dataframe thead th {\n",
       "        text-align: right;\n",
       "    }\n",
       "</style>\n",
       "<table border=\"1\" class=\"dataframe\">\n",
       "  <thead>\n",
       "    <tr style=\"text-align: right;\">\n",
       "      <th></th>\n",
       "      <th>Year Built</th>\n",
       "      <th>Year Remod/Add</th>\n",
       "    </tr>\n",
       "  </thead>\n",
       "  <tbody>\n",
       "    <tr>\n",
       "      <th>182</th>\n",
       "      <td>2002</td>\n",
       "      <td>2001</td>\n",
       "    </tr>\n",
       "  </tbody>\n",
       "</table>\n",
       "</div>"
      ],
      "text/plain": [
       "     Year Built  Year Remod/Add\n",
       "182        2002            2001"
      ]
     },
     "execution_count": 23,
     "metadata": {},
     "output_type": "execute_result"
    }
   ],
   "source": [
    "df_unseen[(df_unseen['Year Built']>df_unseen['Year Remod/Add'])][['Year Built',\n",
    "                                                                'Year Remod/Add']]"
   ]
  },
  {
   "cell_type": "markdown",
   "metadata": {},
   "source": [
    "We have a small inconsistency : We have to change the year built from 2002 to 2001."
   ]
  },
  {
   "cell_type": "code",
   "execution_count": 24,
   "metadata": {},
   "outputs": [
    {
     "data": {
      "text/plain": [
       "2001"
      ]
     },
     "execution_count": 24,
     "metadata": {},
     "output_type": "execute_result"
    }
   ],
   "source": [
    "df_unseen.loc[182,'Year Built'] = 2001\n",
    "\n",
    "## Check if it worked\n",
    "df_unseen.loc[182,'Year Built']"
   ]
  },
  {
   "cell_type": "markdown",
   "metadata": {},
   "source": [
    "### Dealing with NaN values"
   ]
  },
  {
   "cell_type": "code",
   "execution_count": 25,
   "metadata": {},
   "outputs": [
    {
     "data": {
      "text/plain": [
       "Year Built          0\n",
       "Year Remod/Add      0\n",
       "Bsmt Full Bath      2\n",
       "Bsmt Half Bath      2\n",
       "Full Bath           0\n",
       "Half Bath           0\n",
       "Bedroom AbvGr       0\n",
       "Kitchen AbvGr       0\n",
       "TotRms AbvGrd       0\n",
       "Fireplaces          0\n",
       "Garage Yr Blt     138\n",
       "Garage Cars         1\n",
       "Mo Sold             0\n",
       "Yr Sold             0\n",
       "MS SubClass         0\n",
       "dtype: int64"
      ]
     },
     "execution_count": 25,
     "metadata": {},
     "output_type": "execute_result"
    }
   ],
   "source": [
    "## Number of NaN values\n",
    "#######################\n",
    "df[discrete_col].isnull().sum()"
   ]
  },
  {
   "cell_type": "markdown",
   "metadata": {},
   "source": [
    "############################################\n",
    "\n",
    "We decide to drop the column 'Garage Yr Blt' because it seems to be very correlated to the 'Year Built' one, as shows the following plot:"
   ]
  },
  {
   "cell_type": "code",
   "execution_count": 26,
   "metadata": {},
   "outputs": [
    {
     "data": {
      "image/png": "[encoded data removed]",
      "text/plain": [
       "<Figure size 432x288 with 1 Axes>"
      ]
     },
     "metadata": {
      "needs_background": "light"
     },
     "output_type": "display_data"
    }
   ],
   "source": [
    "## Correlation between Yr Built and Garage Yr Blt\n",
    "#################################################\n",
    "plt.scatter(df['Year Built'].values,df['Garage Yr Blt'].values,s=5)\n",
    "plt.xlabel('Year Built')\n",
    "plt.ylabel('Garage Year Built')\n",
    "plt.show()"
   ]
  },
  {
   "cell_type": "code",
   "execution_count": 27,
   "metadata": {},
   "outputs": [
    {
     "name": "stdout",
     "output_type": "stream",
     "text": [
      "Correlation between the two variables = 0.836\n"
     ]
    }
   ],
   "source": [
    "## Compute the correlation\n",
    "##########################\n",
    "corr = df['Year Built'].corr(df['Garage Yr Blt'])\n",
    "print('Correlation between the two variables = {:.3f}'.format(corr))"
   ]
  },
  {
   "cell_type": "code",
   "execution_count": 28,
   "metadata": {},
   "outputs": [],
   "source": [
    "## We drop the column 'Garage Yr Blt'\n",
    "#####################################\n",
    "df_train.drop('Garage Yr Blt',axis=1,inplace=True)\n",
    "df_test.drop('Garage Yr Blt',axis=1,inplace=True)\n",
    "df_unseen.drop('Garage Yr Blt',axis=1,inplace=True)\n",
    "discrete_col.remove('Garage Yr Blt')"
   ]
  },
  {
   "cell_type": "code",
   "execution_count": 29,
   "metadata": {},
   "outputs": [
    {
     "data": {
      "text/plain": [
       "Year Built        0\n",
       "Year Remod/Add    0\n",
       "Bsmt Full Bath    2\n",
       "Bsmt Half Bath    2\n",
       "Full Bath         0\n",
       "Half Bath         0\n",
       "Bedroom AbvGr     0\n",
       "Kitchen AbvGr     0\n",
       "TotRms AbvGrd     0\n",
       "Fireplaces        0\n",
       "Garage Cars       1\n",
       "Mo Sold           0\n",
       "Yr Sold           0\n",
       "MS SubClass       0\n",
       "dtype: int64"
      ]
     },
     "execution_count": 29,
     "metadata": {},
     "output_type": "execute_result"
    }
   ],
   "source": [
    "## Check again null values\n",
    "##########################\n",
    "df.drop('Garage Yr Blt',axis=1,inplace=True)\n",
    "df[discrete_col].isnull().sum()"
   ]
  },
  {
   "cell_type": "code",
   "execution_count": 30,
   "metadata": {},
   "outputs": [],
   "source": [
    "## Fill NaN in 'Garage cars' with 0\n",
    "###################################\n",
    "df_train['Garage Cars'] = df_train['Garage Cars'].fillna(value=0)\n",
    "df_test['Garage Cars'] = df_test['Garage Cars'].fillna(value=0)\n",
    "df_unseen['Garage Cars'] = df_unseen['Garage Cars'].fillna(value=0)"
   ]
  },
  {
   "cell_type": "markdown",
   "metadata": {},
   "source": [
    "For the two 'Bsmt', we can just check if the two missing values are possibly zero by looking at the two columns 'Full Bath' and 'Half Bath'"
   ]
  },
  {
   "cell_type": "code",
   "execution_count": 31,
   "metadata": {},
   "outputs": [
    {
     "data": {
      "text/html": [
       "<div>\n",
       "<style scoped>\n",
       "    .dataframe tbody tr th:only-of-type {\n",
       "        vertical-align: middle;\n",
       "    }\n",
       "\n",
       "    .dataframe tbody tr th {\n",
       "        vertical-align: top;\n",
       "    }\n",
       "\n",
       "    .dataframe thead th {\n",
       "        text-align: right;\n",
       "    }\n",
       "</style>\n",
       "<table border=\"1\" class=\"dataframe\">\n",
       "  <thead>\n",
       "    <tr style=\"text-align: right;\">\n",
       "      <th></th>\n",
       "      <th>Bsmt Full Bath</th>\n",
       "      <th>Bsmt Half Bath</th>\n",
       "      <th>Full Bath</th>\n",
       "      <th>Half Bath</th>\n",
       "    </tr>\n",
       "  </thead>\n",
       "  <tbody>\n",
       "    <tr>\n",
       "      <th>104</th>\n",
       "      <td>NaN</td>\n",
       "      <td>NaN</td>\n",
       "      <td>1</td>\n",
       "      <td>0</td>\n",
       "    </tr>\n",
       "    <tr>\n",
       "      <th>2056</th>\n",
       "      <td>NaN</td>\n",
       "      <td>NaN</td>\n",
       "      <td>3</td>\n",
       "      <td>1</td>\n",
       "    </tr>\n",
       "  </tbody>\n",
       "</table>\n",
       "</div>"
      ],
      "text/plain": [
       "      Bsmt Full Bath  Bsmt Half Bath  Full Bath  Half Bath\n",
       "104              NaN             NaN          1          0\n",
       "2056             NaN             NaN          3          1"
      ]
     },
     "execution_count": 31,
     "metadata": {},
     "output_type": "execute_result"
    }
   ],
   "source": [
    "(df[df['Bsmt Full Bath'].isnull()])[['Bsmt Full Bath','Bsmt Half Bath','Full Bath',\n",
    "                                   'Half Bath']]"
   ]
  },
  {
   "cell_type": "markdown",
   "metadata": {},
   "source": [
    "Since it is not the case, we can simply fill these two NaN values with the most frequent one."
   ]
  },
  {
   "cell_type": "code",
   "execution_count": 32,
   "metadata": {},
   "outputs": [
    {
     "name": "stdout",
     "output_type": "stream",
     "text": [
      "NaN values in train =  0\n",
      "NaN values in test =  0\n",
      "NaN values in unseen =  0\n"
     ]
    }
   ],
   "source": [
    "## Fill NaN with most frequent value\n",
    "####################################\n",
    "\n",
    "bsmt = ['Bsmt Full Bath','Bsmt Half Bath']\n",
    "\n",
    "for c in bsmt:\n",
    "    \n",
    "    ## Consider the most freqent value with respect to the training set\n",
    "    most_freq = df_train[c].value_counts().idxmax()\n",
    "    \n",
    "    ## Fill in the three df\n",
    "    df_train[c] = df_train[c].fillna(value = most_freq)\n",
    "    df_test[c] = df_test[c].fillna(value = most_freq)\n",
    "    df_unseen[c] = df_unseen[c].fillna(value = most_freq)\n",
    "\n",
    "## Check the result\n",
    "print('NaN values in train = ',df_train[discrete_col].isnull().sum().sum())\n",
    "print('NaN values in test = ',df_test[discrete_col].isnull().sum().sum())\n",
    "print('NaN values in unseen = ',df_unseen[discrete_col].isnull().sum().sum())"
   ]
  },
  {
   "cell_type": "markdown",
   "metadata": {},
   "source": [
    "##############################################\n",
    "\n",
    "To conclude the analysis of the discrete variables, we decide to consider the two columns involving dates, for instance 'Year Built', 'Year Remod/Add' as continuous features. The reason for this is that we have a lot of different dates."
   ]
  },
  {
   "cell_type": "code",
   "execution_count": 33,
   "metadata": {},
   "outputs": [],
   "source": [
    "## Remove/Add \n",
    "#############\n",
    "col = ['Year Built', 'Year Remod/Add']\n",
    "for c in col:\n",
    "    discrete_col.remove(c)\n",
    "    continous_col.append(c)"
   ]
  },
  {
   "cell_type": "markdown",
   "metadata": {},
   "source": [
    "## Ordinal columns"
   ]
  },
  {
   "cell_type": "markdown",
   "metadata": {},
   "source": [
    "### Find incorrect data"
   ]
  },
  {
   "cell_type": "code",
   "execution_count": 34,
   "metadata": {},
   "outputs": [
    {
     "name": "stdout",
     "output_type": "stream",
     "text": [
      "Lot Shape : ['Reg', 'IR1', 'IR2', 'IR3']\n",
      "Utilities : ['AllPub', 'NoSewr', 'NoSeWa']\n",
      "Land Slope : ['Gtl', 'Mod', 'Sev']\n",
      "Overall Qual : [5, 6, 7, 8, 4, 9, 3, 10, 2, 1]\n",
      "Overall Cond : [5, 6, 7, 8, 4, 3, 9, 2, 1]\n",
      "Exter Qual : ['TA', 'Gd', 'Ex', 'Fa']\n",
      "Exter Cond : ['TA', 'Gd', 'Fa', 'Ex', 'Po']\n",
      "Bsmt Qual : ['TA', 'Gd', 'Ex', 'Fa', 'Po']\n",
      "Bsmt Cond : ['TA', 'Gd', 'Fa', 'Po', 'Ex']\n",
      "Bsmt Exposure : ['No', 'Av', 'Gd', 'Mn']\n",
      "BsmtFin Type 1 : ['GLQ', 'Unf', 'ALQ', 'Rec', 'BLQ', 'LwQ']\n",
      "BsmtFin Type 2 : ['Unf', 'Rec', 'LwQ', 'BLQ', 'ALQ', 'GLQ']\n",
      "Heating QC : ['Ex', 'TA', 'Gd', 'Fa', 'Po']\n",
      "Electrical : ['SBrkr', 'FuseA', 'FuseF', 'FuseP', 'Mix']\n",
      "Kitchen Qual : ['TA', 'Gd', 'Ex', 'Fa', 'Po']\n",
      "Functional : ['Typ', 'Min1', 'Min2', 'Mod', 'Maj1', 'Maj2', 'Sev', 'Sal']\n",
      "Fireplace Qu : ['Gd', 'TA', 'Fa', 'Po', 'Ex']\n",
      "Garage Finish : ['Unf', 'RFn', 'Fin']\n",
      "Garage Qual : ['TA', 'Fa', 'Gd', 'Po', 'Ex']\n",
      "Garage Cond : ['TA', 'Fa', 'Po', 'Gd', 'Ex']\n",
      "Paved Drive : ['Y', 'N', 'P']\n",
      "Pool QC : ['Ex', 'TA', 'Gd', 'Fa']\n",
      "Fence : ['MnPrv', 'GdPrv', 'GdWo', 'MnWw']\n"
     ]
    }
   ],
   "source": [
    "## Get all possible values of each ordinal feature\n",
    "##################################################\n",
    "for c in ordinal_col:\n",
    "    values =list(df[c].value_counts().index.values)\n",
    "    print(c+' :',values)"
   ]
  },
  {
   "cell_type": "code",
   "execution_count": 35,
   "metadata": {},
   "outputs": [
    {
     "name": "stdout",
     "output_type": "stream",
     "text": [
      "Lot Shape : ['Reg', 'IR1', 'IR2', 'IR3']\n",
      "Utilities : ['AllPub']\n",
      "Land Slope : ['Gtl', 'Mod', 'Sev']\n",
      "Overall Qual : [5, 6, 7, 8, 4, 9, 3, 2, 10]\n",
      "Overall Cond : [5, 6, 7, 8, 4, 9, 3, 2]\n",
      "Exter Qual : ['TA', 'Gd', 'Ex', 'Fa']\n",
      "Exter Cond : ['TA', 'Gd', 'Fa', 'Ex', 'Po']\n",
      "Bsmt Qual : ['TA', 'Gd', 'Ex', 'Fa']\n",
      "Bsmt Cond : ['TA', 'Gd', 'Fa', 'Po']\n",
      "Bsmt Exposure : ['No', 'Av', 'Gd', 'Mn']\n",
      "BsmtFin Type 1 : ['Unf', 'GLQ', 'ALQ', 'Rec', 'BLQ', 'LwQ']\n",
      "BsmtFin Type 2 : ['Unf', 'Rec', 'LwQ', 'BLQ', 'ALQ', 'GLQ']\n",
      "Heating QC : ['Ex', 'TA', 'Gd', 'Fa']\n",
      "Electrical : ['SBrkr', 'FuseA', 'FuseF']\n",
      "Kitchen Qual : ['TA', 'Gd', 'Ex', 'Fa']\n",
      "Functional : ['Typ', 'Min1', 'Mod', 'Min2', 'Maj1']\n",
      "Fireplace Qu : ['Gd', 'TA', 'Fa', 'Po', 'Ex']\n",
      "Garage Finish : ['Unf', 'RFn', 'Fin']\n",
      "Garage Qual : ['TA', 'Fa', 'Gd']\n",
      "Garage Cond : ['TA', 'Fa', 'Po', 'Gd']\n",
      "Paved Drive : ['Y', 'N', 'P']\n",
      "Pool QC : ['Gd', 'TA']\n",
      "Fence : ['MnPrv', 'GdPrv', 'GdWo', 'MnWw']\n"
     ]
    }
   ],
   "source": [
    "## The same for df_test\n",
    "#######################\n",
    "for c in ordinal_col:\n",
    "    values =list(df_test[c].value_counts().index.values)\n",
    "    print(c+' :',values)"
   ]
  },
  {
   "cell_type": "markdown",
   "metadata": {},
   "source": [
    "##########################################\n",
    "\n",
    "There are a priori, after looking carefully in the txt file, no incorrect values "
   ]
  },
  {
   "cell_type": "markdown",
   "metadata": {},
   "source": [
    "### Deal with NaN values"
   ]
  },
  {
   "cell_type": "code",
   "execution_count": 36,
   "metadata": {},
   "outputs": [
    {
     "data": {
      "text/plain": [
       "Lot Shape            0\n",
       "Utilities            0\n",
       "Land Slope           0\n",
       "Overall Qual         0\n",
       "Overall Cond         0\n",
       "Exter Qual           0\n",
       "Exter Cond           0\n",
       "Bsmt Qual           71\n",
       "Bsmt Cond           71\n",
       "Bsmt Exposure       74\n",
       "BsmtFin Type 1      71\n",
       "BsmtFin Type 2      72\n",
       "Heating QC           0\n",
       "Electrical           1\n",
       "Kitchen Qual         0\n",
       "Functional           0\n",
       "Fireplace Qu      1186\n",
       "Garage Finish      138\n",
       "Garage Qual        138\n",
       "Garage Cond        138\n",
       "Paved Drive          0\n",
       "Pool QC           2418\n",
       "Fence             1941\n",
       "dtype: int64"
      ]
     },
     "execution_count": 36,
     "metadata": {},
     "output_type": "execute_result"
    }
   ],
   "source": [
    "df[ordinal_col].isnull().sum()"
   ]
  },
  {
   "cell_type": "markdown",
   "metadata": {},
   "source": [
    "########################################\n",
    "\n",
    "Again, we can have two interpretations of the NaN values : Either the information is missing or it is not include in the house. We may assign 'None' if we think that it is not include and the most frequent value otherwise."
   ]
  },
  {
   "cell_type": "markdown",
   "metadata": {},
   "source": [
    "Looking at the meaning of each variable in txt file, I find consistent to split the columns as follows :"
   ]
  },
  {
   "cell_type": "code",
   "execution_count": 37,
   "metadata": {},
   "outputs": [],
   "source": [
    "col_not_include = ['Bsmt Qual','Bsmt Cond','Bsmt Exposure','BsmtFin Type 1',\n",
    "                   'BsmtFin Type 2','Fireplace Qu','Garage Finish','Garage Qual',\n",
    "                   'Garage Cond','Pool QC','Fence']\n",
    "col_missing = 'Electrical'"
   ]
  },
  {
   "cell_type": "code",
   "execution_count": 38,
   "metadata": {},
   "outputs": [],
   "source": [
    "## Fill the NaN values\n",
    "######################\n",
    "\n",
    "df_train[col_not_include]=df_train[col_not_include].fillna(value='None')\n",
    "df_test[col_not_include]=df_test[col_not_include].fillna(value='None')\n",
    "df_unseen[col_not_include]=df_unseen[col_not_include].fillna(value='None')\n",
    "\n",
    "## The most frequent value on the train set\n",
    "most_frequent = df_train[col_missing].value_counts().idxmax()\n",
    "\n",
    "## Fill the three df\n",
    "df_train[col_missing] = df_train[col_missing].fillna(value = most_frequent)\n",
    "df_test[col_missing] = df_test[col_missing].fillna(value = most_frequent)\n",
    "df_unseen[col_missing] = df_unseen[col_missing].fillna(value=most_frequent)"
   ]
  },
  {
   "cell_type": "code",
   "execution_count": 39,
   "metadata": {},
   "outputs": [
    {
     "name": "stdout",
     "output_type": "stream",
     "text": [
      "NaN values in train =  0\n",
      "NaN values in test =  0\n",
      "NaN values in unseen =  0\n"
     ]
    }
   ],
   "source": [
    "## Check the result\n",
    "###################\n",
    "print('NaN values in train = ',df_train[ordinal_col].isnull().sum().sum())\n",
    "print('NaN values in test = ',df_test[ordinal_col].isnull().sum().sum())\n",
    "print('NaN values in unseen = ',df_unseen[ordinal_col].isnull().sum().sum())"
   ]
  },
  {
   "cell_type": "markdown",
   "metadata": {},
   "source": [
    "## Continuous columns"
   ]
  },
  {
   "cell_type": "markdown",
   "metadata": {},
   "source": [
    "### Missing values"
   ]
  },
  {
   "cell_type": "code",
   "execution_count": 40,
   "metadata": {},
   "outputs": [
    {
     "data": {
      "text/plain": [
       "Pool Area            0\n",
       "Mas Vnr Area        20\n",
       "Enclosed Porch       0\n",
       "Misc Val             0\n",
       "Gr Liv Area          0\n",
       "Low Qual Fin SF      0\n",
       "3Ssn Porch           0\n",
       "Wood Deck SF         0\n",
       "Bsmt Unf SF          1\n",
       "Garage Area          1\n",
       "SalePrice            0\n",
       "Total Bsmt SF        1\n",
       "Lot Frontage       420\n",
       "Screen Porch         0\n",
       "Lot Area             0\n",
       "1st Flr SF           0\n",
       "BsmtFin SF 2         1\n",
       "Open Porch SF        0\n",
       "BsmtFin SF 1         1\n",
       "2nd Flr SF           0\n",
       "Year Built           0\n",
       "Year Remod/Add       0\n",
       "dtype: int64"
      ]
     },
     "execution_count": 40,
     "metadata": {},
     "output_type": "execute_result"
    }
   ],
   "source": [
    "df[continous_col].isnull().sum()"
   ]
  },
  {
   "cell_type": "markdown",
   "metadata": {},
   "source": [
    "#####################################################\n",
    "\n",
    "We fill 'Lot Frontage' and 'Mas Vnr Area' with the mean of each column :"
   ]
  },
  {
   "cell_type": "code",
   "execution_count": 41,
   "metadata": {},
   "outputs": [],
   "source": [
    "## Fill with the mean\n",
    "#####################\n",
    "\n",
    "col = ['Lot Frontage', 'Mas Vnr Area']\n",
    "\n",
    "for c in col:\n",
    "    \n",
    "    ## The mean in df_train[c]\n",
    "    mean = df_train[c].mean()\n",
    "    \n",
    "    ## Fill the three df\n",
    "    df_train[c] = df_train[c].fillna(value = mean)\n",
    "    df_test[c] = df_test[c].fillna(value = mean)\n",
    "    df_unseen[c] = df_unseen[c].fillna(value=mean)"
   ]
  },
  {
   "cell_type": "code",
   "execution_count": 42,
   "metadata": {},
   "outputs": [
    {
     "data": {
      "text/html": [
       "<div>\n",
       "<style scoped>\n",
       "    .dataframe tbody tr th:only-of-type {\n",
       "        vertical-align: middle;\n",
       "    }\n",
       "\n",
       "    .dataframe tbody tr th {\n",
       "        vertical-align: top;\n",
       "    }\n",
       "\n",
       "    .dataframe thead th {\n",
       "        text-align: right;\n",
       "    }\n",
       "</style>\n",
       "<table border=\"1\" class=\"dataframe\">\n",
       "  <thead>\n",
       "    <tr style=\"text-align: right;\">\n",
       "      <th></th>\n",
       "      <th>Bsmt Qual</th>\n",
       "      <th>Bsmt Cond</th>\n",
       "      <th>Bsmt Exposure</th>\n",
       "      <th>BsmtFin Type 1</th>\n",
       "      <th>BsmtFin SF 1</th>\n",
       "      <th>BsmtFin Type 2</th>\n",
       "      <th>BsmtFin SF 2</th>\n",
       "      <th>Bsmt Unf SF</th>\n",
       "      <th>Total Bsmt SF</th>\n",
       "      <th>Bsmt Full Bath</th>\n",
       "      <th>Bsmt Half Bath</th>\n",
       "    </tr>\n",
       "  </thead>\n",
       "  <tbody>\n",
       "    <tr>\n",
       "      <th>104</th>\n",
       "      <td>None</td>\n",
       "      <td>None</td>\n",
       "      <td>None</td>\n",
       "      <td>None</td>\n",
       "      <td>NaN</td>\n",
       "      <td>None</td>\n",
       "      <td>NaN</td>\n",
       "      <td>NaN</td>\n",
       "      <td>NaN</td>\n",
       "      <td>0.0</td>\n",
       "      <td>0.0</td>\n",
       "    </tr>\n",
       "  </tbody>\n",
       "</table>\n",
       "</div>"
      ],
      "text/plain": [
       "    Bsmt Qual Bsmt Cond Bsmt Exposure BsmtFin Type 1  BsmtFin SF 1  \\\n",
       "104      None      None          None           None           NaN   \n",
       "\n",
       "    BsmtFin Type 2  BsmtFin SF 2  Bsmt Unf SF  Total Bsmt SF  Bsmt Full Bath  \\\n",
       "104           None           NaN          NaN            NaN             0.0   \n",
       "\n",
       "     Bsmt Half Bath  \n",
       "104             0.0  "
      ]
     },
     "execution_count": 42,
     "metadata": {},
     "output_type": "execute_result"
    }
   ],
   "source": [
    "## Check the Bsmt\n",
    "#################\n",
    "BSMT = [col for col in df.columns if 'Bsmt' in col]\n",
    "(df_train[df_train['BsmtFin SF 1'].isnull()])[BSMT]"
   ]
  },
  {
   "cell_type": "markdown",
   "metadata": {},
   "source": [
    "From the above observation, we can just assign zero to these NaN values"
   ]
  },
  {
   "cell_type": "code",
   "execution_count": 43,
   "metadata": {},
   "outputs": [],
   "source": [
    "## The four columns in the continuous ones invloving Bsmt\n",
    "BSMT = [col for col in continous_col if 'Bsmt' in col]\n",
    "\n",
    "## Fill NaN with 0\n",
    "for bsmt in BSMT:\n",
    "    df_train[bsmt] = df_train[bsmt].fillna(value = 0)\n",
    "    df_test[bsmt] = df_test[bsmt].fillna(value=0)\n",
    "    df_unseen[bsmt] = df_unseen[bsmt].fillna(value=0)"
   ]
  },
  {
   "cell_type": "markdown",
   "metadata": {},
   "source": [
    "We can proceed in a similar way for the garage"
   ]
  },
  {
   "cell_type": "code",
   "execution_count": 44,
   "metadata": {},
   "outputs": [
    {
     "data": {
      "text/html": [
       "<div>\n",
       "<style scoped>\n",
       "    .dataframe tbody tr th:only-of-type {\n",
       "        vertical-align: middle;\n",
       "    }\n",
       "\n",
       "    .dataframe tbody tr th {\n",
       "        vertical-align: top;\n",
       "    }\n",
       "\n",
       "    .dataframe thead th {\n",
       "        text-align: right;\n",
       "    }\n",
       "</style>\n",
       "<table border=\"1\" class=\"dataframe\">\n",
       "  <thead>\n",
       "    <tr style=\"text-align: right;\">\n",
       "      <th></th>\n",
       "      <th>Garage Area</th>\n",
       "      <th>Garage Cars</th>\n",
       "    </tr>\n",
       "  </thead>\n",
       "  <tbody>\n",
       "    <tr>\n",
       "      <th>1565</th>\n",
       "      <td>NaN</td>\n",
       "      <td>0.0</td>\n",
       "    </tr>\n",
       "  </tbody>\n",
       "</table>\n",
       "</div>"
      ],
      "text/plain": [
       "      Garage Area  Garage Cars\n",
       "1565          NaN          0.0"
      ]
     },
     "execution_count": 44,
     "metadata": {},
     "output_type": "execute_result"
    }
   ],
   "source": [
    "df_train[df_train['Garage Area'].isnull()][['Garage Area','Garage Cars']]"
   ]
  },
  {
   "cell_type": "markdown",
   "metadata": {},
   "source": [
    "Hence we fill this NaN value with zero"
   ]
  },
  {
   "cell_type": "code",
   "execution_count": 45,
   "metadata": {},
   "outputs": [],
   "source": [
    "df_train['Garage Area'] = df_train['Garage Area'].fillna(value = 0)\n",
    "df_test['Garage Area'] = df_test['Garage Area'].fillna(value = 0)\n",
    "df_unseen['Garage Area'] = df_unseen['Garage Area'].fillna(value = 0)"
   ]
  },
  {
   "cell_type": "markdown",
   "metadata": {},
   "source": [
    "We verify that we treated all NaN values"
   ]
  },
  {
   "cell_type": "code",
   "execution_count": 46,
   "metadata": {},
   "outputs": [
    {
     "name": "stdout",
     "output_type": "stream",
     "text": [
      "NaN in df_train :  0\n",
      "NaN in df_test :  0\n",
      "NaN in df_unseen :  0\n"
     ]
    }
   ],
   "source": [
    "print('NaN in df_train : ',df_train[continous_col].isnull().sum().sum())\n",
    "print('NaN in df_test : ',df_test[continous_col_test].isnull().sum().sum())\n",
    "print('NaN in df_unseen : ',df_unseen[continous_col_test].isnull().sum().sum())"
   ]
  },
  {
   "cell_type": "markdown",
   "metadata": {},
   "source": [
    "# Investigate Outliers"
   ]
  },
  {
   "cell_type": "markdown",
   "metadata": {},
   "source": [
    "Of course we investigate outliers on the training df. Before this, it is a good idea to apply log-transform to skew variables."
   ]
  },
  {
   "cell_type": "markdown",
   "metadata": {},
   "source": [
    "## Apply log-transform"
   ]
  },
  {
   "cell_type": "code",
   "execution_count": 47,
   "metadata": {},
   "outputs": [
    {
     "data": {
      "image/png": "[encoded data removed]",
      "text/plain": [
       "<Figure size 720x864 with 24 Axes>"
      ]
     },
     "metadata": {
      "needs_background": "light"
     },
     "output_type": "display_data"
    }
   ],
   "source": [
    "## Plot the distributions using histograms\n",
    "##########################################\n",
    "fig, axes = plt.subplots(6,4,figsize=(10,12))\n",
    "\n",
    "for c,ax in zip(continous_col,axes.ravel()):\n",
    "    ax.hist(df_train[c].values,bins=30,edgecolor='black')\n",
    "    ax.set_title(c)\n",
    "plt.tight_layout()\n",
    "plt.show()"
   ]
  },
  {
   "cell_type": "markdown",
   "metadata": {},
   "source": [
    "After looking at each distribution, we decide that the following columns look skew :"
   ]
  },
  {
   "cell_type": "code",
   "execution_count": 48,
   "metadata": {},
   "outputs": [],
   "source": [
    "## Skewed columns\n",
    "#################\n",
    "skewed_cols = ['SalePrice','1st Flr SF','Open Porch SF','2nd Flr SF','Mas Vnr Area',\n",
    "               'Lot Area','Lot Frontage', 'Total Bsmt SF','Bsmt Unf SF','Wood Deck SF',\n",
    "               'Year Built','Gr Liv Area','BsmtFin SF 1','Year Remod/Add','Garage Area']"
   ]
  },
  {
   "cell_type": "markdown",
   "metadata": {},
   "source": [
    "We now apply the logarithm transformation to each of them and plot their new shapes to see if it improves the symmetry of their distribution."
   ]
  },
  {
   "cell_type": "code",
   "execution_count": 49,
   "metadata": {},
   "outputs": [
    {
     "data": {
      "image/png": "[encoded data removed]",
      "text/plain": [
       "<Figure size 720x864 with 24 Axes>"
      ]
     },
     "metadata": {
      "needs_background": "light"
     },
     "output_type": "display_data"
    }
   ],
   "source": [
    "## Testing the log-transformation\n",
    "#################################\n",
    "\n",
    "def Log_transform_test(df):\n",
    "    df = df.copy()\n",
    "    \n",
    "    ## Apply the log on each skewed column\n",
    "    for c in skewed_cols:\n",
    "        df[c] = df[c].apply(np.log1p)\n",
    "        \n",
    "    ## Create the figure\n",
    "    fig, axes = plt.subplots(6,4,figsize=(10,12))\n",
    "\n",
    "    for c,ax in zip(continous_col,axes.ravel()):\n",
    "        ax.hist(df[c].values,bins=30,edgecolor='black')\n",
    "        ax.set_title(c)\n",
    "    plt.tight_layout()\n",
    "    plt.show() \n",
    "\n",
    "Log_transform_test(df_train)"
   ]
  },
  {
   "cell_type": "markdown",
   "metadata": {},
   "source": [
    "After looking at their different shape, we finally decide to apply log-transform to the following columns :"
   ]
  },
  {
   "cell_type": "code",
   "execution_count": 50,
   "metadata": {},
   "outputs": [],
   "source": [
    "log_transform_cols = ['SalePrice','1st Flr SF','Open Porch SF','Mas Vnr Area',\n",
    "               'Lot Area','Lot Frontage', 'Total Bsmt SF','Bsmt Unf SF','Wood Deck SF',\n",
    "               'Gr Liv Area','BsmtFin SF 1']"
   ]
  },
  {
   "cell_type": "code",
   "execution_count": 51,
   "metadata": {},
   "outputs": [],
   "source": [
    "## Apply log_transform\n",
    "######################\n",
    "df_train[log_transform_cols] = df_train[log_transform_cols].applymap(np.log1p)\n",
    "df_test[log_transform_cols] = df_test[log_transform_cols].applymap(np.log1p)\n",
    "\n",
    "## Remove 'SalePrice' be cause it is not in df_unseen\n",
    "log_transform_cols.remove('SalePrice')\n",
    "df_unseen[log_transform_cols] = df_unseen[log_transform_cols].applymap(np.log1p)"
   ]
  },
  {
   "cell_type": "markdown",
   "metadata": {},
   "source": [
    "## Outliers\n",
    "  "
   ]
  },
  {
   "cell_type": "markdown",
   "metadata": {},
   "source": [
    "We need a reasonnable criterion to decide which row is considered as an outlier. By reasonnable, we mean that we have a few number of outliers (with respect to a given criterion) compared to the total number of observations. \n",
    "\n",
    "Two parameters seem to be import for the criterion : the threshold of the z-score and, for a given row, the number of columns having |z-score| > threshold. Let's investigate the number of outliers when these parameters vary.\n",
    "\n",
    "We will also inverstigate among the columns which look rather symmetric."
   ]
  },
  {
   "cell_type": "code",
   "execution_count": 52,
   "metadata": {},
   "outputs": [],
   "source": [
    "## Investigate Criterion ##\n",
    "##########################\n",
    "\n",
    "## Number of columns\n",
    "sym_cols = ['SalePrice','1st Flr SF','Lot Area','Lot Frontage', 'Total Bsmt SF','Gr Liv Area']\n",
    "n = len(sym_cols)\n",
    "\n",
    "## The DataFrame containing z_scores\n",
    "z_scores = (df_train[sym_cols]-df_train[sym_cols].mean())/df_train[sym_cols].std()\n",
    "\n",
    "## The dictionnary to store the results\n",
    "Number_outliers = {'Number of columns':np.arange(1,n+1)} \n",
    "\n",
    "## Fix the threshold\n",
    "for thresh in np.linspace(0,5,num=11):\n",
    "    \n",
    "    ## Store the number of outliers with number_col varying\n",
    "    number_outliers = []\n",
    "    \n",
    "    ## fix the number of columns, i.e. we consider as an outlier a row having at least \n",
    "    ## number_col z_scores greater than thresh in absolute values\n",
    "    for number_col in range(1,n+1):\n",
    "        \n",
    "        ## The DataFrame contining boolean informations concerning the threshold\n",
    "        bool_frame = np.abs(z_scores)>thresh\n",
    "        \n",
    "        ## The Series telling if a row contains more than number_col extreme values\n",
    "        bool_series = (bool_frame.sum(axis=1)>= number_col)\n",
    "        \n",
    "        ## Number of rows considered as outliers\n",
    "        nb_outliers = bool_series.sum()\n",
    "        \n",
    "        ## Store the value in an array\n",
    "        number_outliers.append(nb_outliers)\n",
    "    \n",
    "    ## Add the array to the dictionnary\n",
    "    Number_outliers['Thresh = '+str(thresh)] = number_outliers\n",
    "\n",
    "## Store all the result in a DataFrame\n",
    "Outliers_results = pd.DataFrame(Number_outliers)  \n",
    "Outliers_results.set_index('Number of columns',inplace=True)"
   ]
  },
  {
   "cell_type": "code",
   "execution_count": 53,
   "metadata": {},
   "outputs": [
    {
     "data": {
      "text/html": [
       "<div>\n",
       "<style scoped>\n",
       "    .dataframe tbody tr th:only-of-type {\n",
       "        vertical-align: middle;\n",
       "    }\n",
       "\n",
       "    .dataframe tbody tr th {\n",
       "        vertical-align: top;\n",
       "    }\n",
       "\n",
       "    .dataframe thead th {\n",
       "        text-align: right;\n",
       "    }\n",
       "</style>\n",
       "<table border=\"1\" class=\"dataframe\">\n",
       "  <thead>\n",
       "    <tr style=\"text-align: right;\">\n",
       "      <th></th>\n",
       "      <th>Thresh = 0.0</th>\n",
       "      <th>Thresh = 0.5</th>\n",
       "      <th>Thresh = 1.0</th>\n",
       "      <th>Thresh = 1.5</th>\n",
       "      <th>Thresh = 2.0</th>\n",
       "      <th>Thresh = 2.5</th>\n",
       "      <th>Thresh = 3.0</th>\n",
       "      <th>Thresh = 3.5</th>\n",
       "      <th>Thresh = 4.0</th>\n",
       "      <th>Thresh = 4.5</th>\n",
       "      <th>Thresh = 5.0</th>\n",
       "    </tr>\n",
       "    <tr>\n",
       "      <th>Number of columns</th>\n",
       "      <th></th>\n",
       "      <th></th>\n",
       "      <th></th>\n",
       "      <th></th>\n",
       "      <th></th>\n",
       "      <th></th>\n",
       "      <th></th>\n",
       "      <th></th>\n",
       "      <th></th>\n",
       "      <th></th>\n",
       "      <th></th>\n",
       "    </tr>\n",
       "  </thead>\n",
       "  <tbody>\n",
       "    <tr>\n",
       "      <th>1</th>\n",
       "      <td>1944</td>\n",
       "      <td>1891</td>\n",
       "      <td>1348</td>\n",
       "      <td>736</td>\n",
       "      <td>368</td>\n",
       "      <td>216</td>\n",
       "      <td>162</td>\n",
       "      <td>82</td>\n",
       "      <td>72</td>\n",
       "      <td>72</td>\n",
       "      <td>68</td>\n",
       "    </tr>\n",
       "    <tr>\n",
       "      <th>2</th>\n",
       "      <td>1944</td>\n",
       "      <td>1614</td>\n",
       "      <td>747</td>\n",
       "      <td>332</td>\n",
       "      <td>145</td>\n",
       "      <td>79</td>\n",
       "      <td>44</td>\n",
       "      <td>6</td>\n",
       "      <td>3</td>\n",
       "      <td>1</td>\n",
       "      <td>1</td>\n",
       "    </tr>\n",
       "    <tr>\n",
       "      <th>3</th>\n",
       "      <td>1944</td>\n",
       "      <td>1139</td>\n",
       "      <td>355</td>\n",
       "      <td>128</td>\n",
       "      <td>51</td>\n",
       "      <td>22</td>\n",
       "      <td>5</td>\n",
       "      <td>2</td>\n",
       "      <td>1</td>\n",
       "      <td>0</td>\n",
       "      <td>0</td>\n",
       "    </tr>\n",
       "    <tr>\n",
       "      <th>4</th>\n",
       "      <td>1944</td>\n",
       "      <td>630</td>\n",
       "      <td>136</td>\n",
       "      <td>36</td>\n",
       "      <td>6</td>\n",
       "      <td>3</td>\n",
       "      <td>3</td>\n",
       "      <td>2</td>\n",
       "      <td>0</td>\n",
       "      <td>0</td>\n",
       "      <td>0</td>\n",
       "    </tr>\n",
       "    <tr>\n",
       "      <th>5</th>\n",
       "      <td>1944</td>\n",
       "      <td>294</td>\n",
       "      <td>31</td>\n",
       "      <td>6</td>\n",
       "      <td>0</td>\n",
       "      <td>0</td>\n",
       "      <td>0</td>\n",
       "      <td>0</td>\n",
       "      <td>0</td>\n",
       "      <td>0</td>\n",
       "      <td>0</td>\n",
       "    </tr>\n",
       "    <tr>\n",
       "      <th>6</th>\n",
       "      <td>1944</td>\n",
       "      <td>95</td>\n",
       "      <td>2</td>\n",
       "      <td>0</td>\n",
       "      <td>0</td>\n",
       "      <td>0</td>\n",
       "      <td>0</td>\n",
       "      <td>0</td>\n",
       "      <td>0</td>\n",
       "      <td>0</td>\n",
       "      <td>0</td>\n",
       "    </tr>\n",
       "  </tbody>\n",
       "</table>\n",
       "</div>"
      ],
      "text/plain": [
       "                   Thresh = 0.0  Thresh = 0.5  Thresh = 1.0  Thresh = 1.5  \\\n",
       "Number of columns                                                           \n",
       "1                          1944          1891          1348           736   \n",
       "2                          1944          1614           747           332   \n",
       "3                          1944          1139           355           128   \n",
       "4                          1944           630           136            36   \n",
       "5                          1944           294            31             6   \n",
       "6                          1944            95             2             0   \n",
       "\n",
       "                   Thresh = 2.0  Thresh = 2.5  Thresh = 3.0  Thresh = 3.5  \\\n",
       "Number of columns                                                           \n",
       "1                           368           216           162            82   \n",
       "2                           145            79            44             6   \n",
       "3                            51            22             5             2   \n",
       "4                             6             3             3             2   \n",
       "5                             0             0             0             0   \n",
       "6                             0             0             0             0   \n",
       "\n",
       "                   Thresh = 4.0  Thresh = 4.5  Thresh = 5.0  \n",
       "Number of columns                                            \n",
       "1                            72            72            68  \n",
       "2                             3             1             1  \n",
       "3                             1             0             0  \n",
       "4                             0             0             0  \n",
       "5                             0             0             0  \n",
       "6                             0             0             0  "
      ]
     },
     "execution_count": 53,
     "metadata": {},
     "output_type": "execute_result"
    }
   ],
   "source": [
    "Outliers_results.head(6)"
   ]
  },
  {
   "cell_type": "markdown",
   "metadata": {},
   "source": [
    "The numbers inside the DataFrame have the following meaning : Given a Threshold thresh and a number of columns nb_col, we define an outlier as a row having more than nb_col with |z_score| > thresh. The associated value is therefore the number of outliers with respect to this definition."
   ]
  },
  {
   "cell_type": "markdown",
   "metadata": {},
   "source": [
    "Considering the normal distribution as a reference for detecting outliers with the usual threshold of 2, the proportion of outliers among the total number of observations should be about 5%. Let's apply the %-map to the above DataFrame, followed by fixing in each column the closest value to 5%."
   ]
  },
  {
   "cell_type": "code",
   "execution_count": 54,
   "metadata": {},
   "outputs": [],
   "source": [
    "## Apply percentage to the DataFrame\n",
    "####################################\n",
    "def perc(x):\n",
    "    n = df.shape[0] ## number of observations\n",
    "    p = round((x/n)*100,2)\n",
    "    return p\n",
    "Outliers_results = Outliers_results.applymap(perc)\n",
    "\n",
    "# Consider the distance from each point to 5\n",
    "Outliers_results = np.abs(Outliers_results-5) \n",
    "\n",
    "## This function return x if the value is the minimum and '-' otherwise\n",
    "def delta(x,y):\n",
    "    if x==y:\n",
    "        return x\n",
    "    else:\n",
    "        return '-'\n",
    "\n",
    "## Apply the delta function to each entry\n",
    "#########################################\n",
    "def f(series):\n",
    "    def g(y):\n",
    "        return delta(y,series.min())\n",
    "    return series.apply(g)\n",
    "\n",
    "for col in Outliers_results.columns:\n",
    "    Outliers_results[col]= f(Outliers_results[col])"
   ]
  },
  {
   "cell_type": "code",
   "execution_count": 55,
   "metadata": {},
   "outputs": [
    {
     "data": {
      "text/html": [
       "<div>\n",
       "<style scoped>\n",
       "    .dataframe tbody tr th:only-of-type {\n",
       "        vertical-align: middle;\n",
       "    }\n",
       "\n",
       "    .dataframe tbody tr th {\n",
       "        vertical-align: top;\n",
       "    }\n",
       "\n",
       "    .dataframe thead th {\n",
       "        text-align: right;\n",
       "    }\n",
       "</style>\n",
       "<table border=\"1\" class=\"dataframe\">\n",
       "  <thead>\n",
       "    <tr style=\"text-align: right;\">\n",
       "      <th></th>\n",
       "      <th>Thresh = 0.0</th>\n",
       "      <th>Thresh = 0.5</th>\n",
       "      <th>Thresh = 1.0</th>\n",
       "      <th>Thresh = 1.5</th>\n",
       "      <th>Thresh = 2.0</th>\n",
       "      <th>Thresh = 2.5</th>\n",
       "      <th>Thresh = 3.0</th>\n",
       "      <th>Thresh = 3.5</th>\n",
       "      <th>Thresh = 4.0</th>\n",
       "      <th>Thresh = 4.5</th>\n",
       "      <th>Thresh = 5.0</th>\n",
       "    </tr>\n",
       "    <tr>\n",
       "      <th>Number of columns</th>\n",
       "      <th></th>\n",
       "      <th></th>\n",
       "      <th></th>\n",
       "      <th></th>\n",
       "      <th></th>\n",
       "      <th></th>\n",
       "      <th></th>\n",
       "      <th></th>\n",
       "      <th></th>\n",
       "      <th></th>\n",
       "      <th></th>\n",
       "    </tr>\n",
       "  </thead>\n",
       "  <tbody>\n",
       "    <tr>\n",
       "      <th>1</th>\n",
       "      <td>75.0</td>\n",
       "      <td>-</td>\n",
       "      <td>-</td>\n",
       "      <td>-</td>\n",
       "      <td>-</td>\n",
       "      <td>-</td>\n",
       "      <td>1.67</td>\n",
       "      <td>1.63</td>\n",
       "      <td>2.04</td>\n",
       "      <td>2.04</td>\n",
       "      <td>2.2</td>\n",
       "    </tr>\n",
       "    <tr>\n",
       "      <th>2</th>\n",
       "      <td>75.0</td>\n",
       "      <td>-</td>\n",
       "      <td>-</td>\n",
       "      <td>-</td>\n",
       "      <td>0.97</td>\n",
       "      <td>1.75</td>\n",
       "      <td>-</td>\n",
       "      <td>-</td>\n",
       "      <td>-</td>\n",
       "      <td>-</td>\n",
       "      <td>-</td>\n",
       "    </tr>\n",
       "    <tr>\n",
       "      <th>3</th>\n",
       "      <td>75.0</td>\n",
       "      <td>-</td>\n",
       "      <td>-</td>\n",
       "      <td>0.27</td>\n",
       "      <td>-</td>\n",
       "      <td>-</td>\n",
       "      <td>-</td>\n",
       "      <td>-</td>\n",
       "      <td>-</td>\n",
       "      <td>-</td>\n",
       "      <td>-</td>\n",
       "    </tr>\n",
       "    <tr>\n",
       "      <th>4</th>\n",
       "      <td>75.0</td>\n",
       "      <td>-</td>\n",
       "      <td>0.6</td>\n",
       "      <td>-</td>\n",
       "      <td>-</td>\n",
       "      <td>-</td>\n",
       "      <td>-</td>\n",
       "      <td>-</td>\n",
       "      <td>-</td>\n",
       "      <td>-</td>\n",
       "      <td>-</td>\n",
       "    </tr>\n",
       "    <tr>\n",
       "      <th>5</th>\n",
       "      <td>75.0</td>\n",
       "      <td>-</td>\n",
       "      <td>-</td>\n",
       "      <td>-</td>\n",
       "      <td>-</td>\n",
       "      <td>-</td>\n",
       "      <td>-</td>\n",
       "      <td>-</td>\n",
       "      <td>-</td>\n",
       "      <td>-</td>\n",
       "      <td>-</td>\n",
       "    </tr>\n",
       "    <tr>\n",
       "      <th>6</th>\n",
       "      <td>75.0</td>\n",
       "      <td>1.09</td>\n",
       "      <td>-</td>\n",
       "      <td>-</td>\n",
       "      <td>-</td>\n",
       "      <td>-</td>\n",
       "      <td>-</td>\n",
       "      <td>-</td>\n",
       "      <td>-</td>\n",
       "      <td>-</td>\n",
       "      <td>-</td>\n",
       "    </tr>\n",
       "  </tbody>\n",
       "</table>\n",
       "</div>"
      ],
      "text/plain": [
       "                   Thresh = 0.0 Thresh = 0.5 Thresh = 1.0 Thresh = 1.5  \\\n",
       "Number of columns                                                        \n",
       "1                          75.0            -            -            -   \n",
       "2                          75.0            -            -            -   \n",
       "3                          75.0            -            -         0.27   \n",
       "4                          75.0            -          0.6            -   \n",
       "5                          75.0            -            -            -   \n",
       "6                          75.0         1.09            -            -   \n",
       "\n",
       "                  Thresh = 2.0 Thresh = 2.5 Thresh = 3.0 Thresh = 3.5  \\\n",
       "Number of columns                                                       \n",
       "1                            -            -         1.67         1.63   \n",
       "2                         0.97         1.75            -            -   \n",
       "3                            -            -            -            -   \n",
       "4                            -            -            -            -   \n",
       "5                            -            -            -            -   \n",
       "6                            -            -            -            -   \n",
       "\n",
       "                  Thresh = 4.0 Thresh = 4.5 Thresh = 5.0  \n",
       "Number of columns                                         \n",
       "1                         2.04         2.04          2.2  \n",
       "2                            -            -            -  \n",
       "3                            -            -            -  \n",
       "4                            -            -            -  \n",
       "5                            -            -            -  \n",
       "6                            -            -            -  "
      ]
     },
     "execution_count": 55,
     "metadata": {},
     "output_type": "execute_result"
    }
   ],
   "source": [
    "Outliers_results.head(6)"
   ]
  },
  {
   "cell_type": "markdown",
   "metadata": {},
   "source": [
    "We finally decide to define an outliers as an observation having more (or equal) than 2 column with z-score greater than 2.5"
   ]
  },
  {
   "cell_type": "code",
   "execution_count": 56,
   "metadata": {},
   "outputs": [],
   "source": [
    "## Boolean Frame \n",
    "bool_frame = (np.abs(z_scores)>2)\n",
    "\n",
    "## Boolean indices\n",
    "bool_series = (bool_frame.sum(axis=1) >= 2)\n",
    "\n",
    "## Take off outliers\n",
    "df_train = df_train[~bool_series]"
   ]
  },
  {
   "cell_type": "code",
   "execution_count": 57,
   "metadata": {},
   "outputs": [],
   "source": [
    "## Reset Index\n",
    "df_train.reset_index(drop=True,inplace=True)"
   ]
  },
  {
   "cell_type": "code",
   "execution_count": 58,
   "metadata": {},
   "outputs": [
    {
     "data": {
      "text/plain": [
       "(1799, 79)"
      ]
     },
     "execution_count": 58,
     "metadata": {},
     "output_type": "execute_result"
    }
   ],
   "source": [
    "df_train.shape"
   ]
  },
  {
   "cell_type": "code",
   "execution_count": 59,
   "metadata": {},
   "outputs": [],
   "source": [
    "## We create new csv_files\n",
    "##########################\n",
    "df_train.to_csv('house-prices_cleaned_train.csv',index=False, encoding='utf-8')\n",
    "df_test.to_csv('house-prices-test_cleaned_test.csv',index=False, encoding='utf-8')\n",
    "df_unseen.to_csv('house-prices_cleaned_unseen.csv',index=False, encoding='utf-8')"
   ]
  },
  {
   "cell_type": "code",
   "execution_count": null,
   "metadata": {},
   "outputs": [],
   "source": []
  }
 ],
 "metadata": {
  "kernelspec": {
   "display_name": "Python 3",
   "language": "python",
   "name": "python3"
  },
  "language_info": {
   "codemirror_mode": {
    "name": "ipython",
    "version": 3
   },
   "file_extension": ".py",
   "mimetype": "text/x-python",
   "name": "python",
   "nbconvert_exporter": "python",
   "pygments_lexer": "ipython3",
   "version": "3.6.11"
  }
 },
 "nbformat": 4,
 "nbformat_minor": 4
}
